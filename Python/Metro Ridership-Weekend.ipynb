{
 "cells": [
  {
   "cell_type": "markdown",
   "metadata": {},
   "source": [
    "# Importing Relevant data file ( Weekend)"
   ]
  },
  {
   "cell_type": "code",
   "execution_count": 1,
   "metadata": {
    "scrolled": true
   },
   "outputs": [
    {
     "data": {
      "text/html": [
       "<div>\n",
       "<style scoped>\n",
       "    .dataframe tbody tr th:only-of-type {\n",
       "        vertical-align: middle;\n",
       "    }\n",
       "\n",
       "    .dataframe tbody tr th {\n",
       "        vertical-align: top;\n",
       "    }\n",
       "\n",
       "    .dataframe thead th {\n",
       "        text-align: right;\n",
       "    }\n",
       "</style>\n",
       "<table border=\"1\" class=\"dataframe\">\n",
       "  <thead>\n",
       "    <tr style=\"text-align: right;\">\n",
       "      <th></th>\n",
       "      <th>txn_type</th>\n",
       "      <th>txn_date</th>\n",
       "      <th>txn_time</th>\n",
       "      <th>start_location</th>\n",
       "      <th>end_location</th>\n",
       "      <th>line_name</th>\n",
       "      <th>start_zone</th>\n",
       "      <th>end_zone</th>\n",
       "      <th>loading_date</th>\n",
       "      <th>ingestion_id</th>\n",
       "    </tr>\n",
       "  </thead>\n",
       "  <tbody>\n",
       "    <tr>\n",
       "      <th>0</th>\n",
       "      <td>Check in</td>\n",
       "      <td>2017-01-01</td>\n",
       "      <td>14:37:19</td>\n",
       "      <td>Energy  Metro Station</td>\n",
       "      <td>Energy  Metro Station</td>\n",
       "      <td>Red Metro Line</td>\n",
       "      <td>Zone 2</td>\n",
       "      <td>Zone 2</td>\n",
       "      <td>20170719</td>\n",
       "      <td>2032</td>\n",
       "    </tr>\n",
       "    <tr>\n",
       "      <th>1</th>\n",
       "      <td>Check in</td>\n",
       "      <td>2017-01-01</td>\n",
       "      <td>20:05:12</td>\n",
       "      <td>GGICO  Metro Station</td>\n",
       "      <td>GGICO  Metro Station</td>\n",
       "      <td>Red Metro Line</td>\n",
       "      <td>Zone 5</td>\n",
       "      <td>Zone 5</td>\n",
       "      <td>20170719</td>\n",
       "      <td>2032</td>\n",
       "    </tr>\n",
       "    <tr>\n",
       "      <th>2</th>\n",
       "      <td>Check in</td>\n",
       "      <td>2017-01-01</td>\n",
       "      <td>16:04:29</td>\n",
       "      <td>Energy  Metro Station</td>\n",
       "      <td>Energy  Metro Station</td>\n",
       "      <td>Red Metro Line</td>\n",
       "      <td>Zone 2</td>\n",
       "      <td>Zone 2</td>\n",
       "      <td>20170719</td>\n",
       "      <td>2032</td>\n",
       "    </tr>\n",
       "    <tr>\n",
       "      <th>3</th>\n",
       "      <td>Check in</td>\n",
       "      <td>2017-01-01</td>\n",
       "      <td>16:01:46</td>\n",
       "      <td>Energy  Metro Station</td>\n",
       "      <td>Energy  Metro Station</td>\n",
       "      <td>Red Metro Line</td>\n",
       "      <td>Zone 2</td>\n",
       "      <td>Zone 2</td>\n",
       "      <td>20170719</td>\n",
       "      <td>2032</td>\n",
       "    </tr>\n",
       "    <tr>\n",
       "      <th>4</th>\n",
       "      <td>Check in</td>\n",
       "      <td>2017-01-01</td>\n",
       "      <td>15:11:59</td>\n",
       "      <td>Energy  Metro Station</td>\n",
       "      <td>Energy  Metro Station</td>\n",
       "      <td>Red Metro Line</td>\n",
       "      <td>Zone 2</td>\n",
       "      <td>Zone 2</td>\n",
       "      <td>20170719</td>\n",
       "      <td>2032</td>\n",
       "    </tr>\n",
       "  </tbody>\n",
       "</table>\n",
       "</div>"
      ],
      "text/plain": [
       "   txn_type    txn_date  txn_time         start_location  \\\n",
       "0  Check in  2017-01-01  14:37:19  Energy  Metro Station   \n",
       "1  Check in  2017-01-01  20:05:12   GGICO  Metro Station   \n",
       "2  Check in  2017-01-01  16:04:29  Energy  Metro Station   \n",
       "3  Check in  2017-01-01  16:01:46  Energy  Metro Station   \n",
       "4  Check in  2017-01-01  15:11:59  Energy  Metro Station   \n",
       "\n",
       "            end_location       line_name start_zone end_zone  loading_date  \\\n",
       "0  Energy  Metro Station  Red Metro Line     Zone 2   Zone 2      20170719   \n",
       "1   GGICO  Metro Station  Red Metro Line     Zone 5   Zone 5      20170719   \n",
       "2  Energy  Metro Station  Red Metro Line     Zone 2   Zone 2      20170719   \n",
       "3  Energy  Metro Station  Red Metro Line     Zone 2   Zone 2      20170719   \n",
       "4  Energy  Metro Station  Red Metro Line     Zone 2   Zone 2      20170719   \n",
       "\n",
       "   ingestion_id  \n",
       "0          2032  \n",
       "1          2032  \n",
       "2          2032  \n",
       "3          2032  \n",
       "4          2032  "
      ]
     },
     "execution_count": 1,
     "metadata": {},
     "output_type": "execute_result"
    }
   ],
   "source": [
    "import pandas as pd\n",
    "df=pd.read_csv('metro_ridership_2017_weekend.csv', low_memory=False)\n",
    "df.head()"
   ]
  },
  {
   "cell_type": "code",
   "execution_count": 2,
   "metadata": {
    "scrolled": true
   },
   "outputs": [
    {
     "data": {
      "text/html": [
       "<div>\n",
       "<style scoped>\n",
       "    .dataframe tbody tr th:only-of-type {\n",
       "        vertical-align: middle;\n",
       "    }\n",
       "\n",
       "    .dataframe tbody tr th {\n",
       "        vertical-align: top;\n",
       "    }\n",
       "\n",
       "    .dataframe thead th {\n",
       "        text-align: right;\n",
       "    }\n",
       "</style>\n",
       "<table border=\"1\" class=\"dataframe\">\n",
       "  <thead>\n",
       "    <tr style=\"text-align: right;\">\n",
       "      <th></th>\n",
       "      <th>station_name</th>\n",
       "      <th>line_name</th>\n",
       "      <th>station_location_longitiude</th>\n",
       "      <th>station_location_latitiude</th>\n",
       "      <th>loading_date</th>\n",
       "      <th>ingestion_id</th>\n",
       "    </tr>\n",
       "  </thead>\n",
       "  <tbody>\n",
       "    <tr>\n",
       "      <th>0</th>\n",
       "      <td>World Trade Centre Metro Station</td>\n",
       "      <td>Red Metro Line</td>\n",
       "      <td>55.285061</td>\n",
       "      <td>25.224829</td>\n",
       "      <td>20170717</td>\n",
       "      <td>2214</td>\n",
       "    </tr>\n",
       "    <tr>\n",
       "      <th>1</th>\n",
       "      <td>Emirates Towers Metro Station</td>\n",
       "      <td>Red Metro Line</td>\n",
       "      <td>55.279821</td>\n",
       "      <td>25.217214</td>\n",
       "      <td>20170717</td>\n",
       "      <td>2214</td>\n",
       "    </tr>\n",
       "    <tr>\n",
       "      <th>2</th>\n",
       "      <td>Financial Centre Metro Station</td>\n",
       "      <td>Red Metro Line</td>\n",
       "      <td>55.275587</td>\n",
       "      <td>25.211030</td>\n",
       "      <td>20170717</td>\n",
       "      <td>2214</td>\n",
       "    </tr>\n",
       "    <tr>\n",
       "      <th>3</th>\n",
       "      <td>Burj Khalifa/ Dubai Mall Metro Station</td>\n",
       "      <td>Red Metro Line</td>\n",
       "      <td>55.269518</td>\n",
       "      <td>25.201401</td>\n",
       "      <td>20170717</td>\n",
       "      <td>2214</td>\n",
       "    </tr>\n",
       "    <tr>\n",
       "      <th>4</th>\n",
       "      <td>Business Bay Metro Station</td>\n",
       "      <td>Red Metro Line</td>\n",
       "      <td>55.260419</td>\n",
       "      <td>25.191275</td>\n",
       "      <td>20170717</td>\n",
       "      <td>2214</td>\n",
       "    </tr>\n",
       "  </tbody>\n",
       "</table>\n",
       "</div>"
      ],
      "text/plain": [
       "                             station_name       line_name  \\\n",
       "0        World Trade Centre Metro Station  Red Metro Line   \n",
       "1           Emirates Towers Metro Station  Red Metro Line   \n",
       "2          Financial Centre Metro Station  Red Metro Line   \n",
       "3  Burj Khalifa/ Dubai Mall Metro Station  Red Metro Line   \n",
       "4              Business Bay Metro Station  Red Metro Line   \n",
       "\n",
       "   station_location_longitiude  station_location_latitiude  loading_date  \\\n",
       "0                    55.285061                   25.224829      20170717   \n",
       "1                    55.279821                   25.217214      20170717   \n",
       "2                    55.275587                   25.211030      20170717   \n",
       "3                    55.269518                   25.201401      20170717   \n",
       "4                    55.260419                   25.191275      20170717   \n",
       "\n",
       "   ingestion_id  \n",
       "0          2214  \n",
       "1          2214  \n",
       "2          2214  \n",
       "3          2214  \n",
       "4          2214  "
      ]
     },
     "execution_count": 2,
     "metadata": {},
     "output_type": "execute_result"
    }
   ],
   "source": [
    "df2=pd.read_csv('metro_stations.csv')\n",
    "df2.head()"
   ]
  },
  {
   "cell_type": "markdown",
   "metadata": {},
   "source": [
    "# Checking Missing Values"
   ]
  },
  {
   "cell_type": "code",
   "execution_count": 3,
   "metadata": {
    "scrolled": true
   },
   "outputs": [
    {
     "data": {
      "text/plain": [
       "txn_type          945664\n",
       "txn_date          945664\n",
       "txn_time          945664\n",
       "start_location    415942\n",
       "end_location      945664\n",
       "line_name         945664\n",
       "start_zone        945664\n",
       "end_zone          945664\n",
       "loading_date      945664\n",
       "ingestion_id      945664\n",
       "dtype: int64"
      ]
     },
     "execution_count": 3,
     "metadata": {},
     "output_type": "execute_result"
    }
   ],
   "source": [
    "df.notnull().sum()"
   ]
  },
  {
   "cell_type": "markdown",
   "metadata": {},
   "source": [
    "# Data types and summary "
   ]
  },
  {
   "cell_type": "code",
   "execution_count": 4,
   "metadata": {
    "scrolled": true
   },
   "outputs": [
    {
     "data": {
      "text/plain": [
       "txn_type          object\n",
       "txn_date          object\n",
       "txn_time          object\n",
       "start_location    object\n",
       "end_location      object\n",
       "line_name         object\n",
       "start_zone        object\n",
       "end_zone          object\n",
       "loading_date       int64\n",
       "ingestion_id       int64\n",
       "dtype: object"
      ]
     },
     "execution_count": 4,
     "metadata": {},
     "output_type": "execute_result"
    }
   ],
   "source": [
    "df=pd.read_csv('metro_ridership_2017_weekend.csv',low_memory=False)\n",
    "df.dtypes"
   ]
  },
  {
   "cell_type": "code",
   "execution_count": 5,
   "metadata": {
    "scrolled": true
   },
   "outputs": [],
   "source": [
    "df['txn_time']=pd.to_datetime(df.txn_time)"
   ]
  },
  {
   "cell_type": "code",
   "execution_count": 6,
   "metadata": {
    "scrolled": true
   },
   "outputs": [],
   "source": [
    "%matplotlib inline"
   ]
  },
  {
   "cell_type": "code",
   "execution_count": 7,
   "metadata": {
    "scrolled": true
   },
   "outputs": [],
   "source": [
    "df['hour']=df.txn_time.dt.hour"
   ]
  },
  {
   "cell_type": "code",
   "execution_count": 8,
   "metadata": {
    "scrolled": true
   },
   "outputs": [
    {
     "data": {
      "text/plain": [
       "<matplotlib.axes._subplots.AxesSubplot at 0x23384587128>"
      ]
     },
     "execution_count": 8,
     "metadata": {},
     "output_type": "execute_result"
    },
    {
     "data": {
      "image/png": "[encoded data removed]",
      "text/plain": [
       "<Figure size 432x288 with 1 Axes>"
      ]
     },
     "metadata": {},
     "output_type": "display_data"
    }
   ],
   "source": [
    "df.hour.value_counts().sort_index().plot()"
   ]
  },
  {
   "cell_type": "code",
   "execution_count": 9,
   "metadata": {},
   "outputs": [
    {
     "data": {
      "text/html": [
       "<div>\n",
       "<style scoped>\n",
       "    .dataframe tbody tr th:only-of-type {\n",
       "        vertical-align: middle;\n",
       "    }\n",
       "\n",
       "    .dataframe tbody tr th {\n",
       "        vertical-align: top;\n",
       "    }\n",
       "\n",
       "    .dataframe thead th {\n",
       "        text-align: right;\n",
       "    }\n",
       "</style>\n",
       "<table border=\"1\" class=\"dataframe\">\n",
       "  <thead>\n",
       "    <tr style=\"text-align: right;\">\n",
       "      <th></th>\n",
       "      <th>txn_type</th>\n",
       "      <th>txn_date</th>\n",
       "      <th>txn_time</th>\n",
       "      <th>start_location</th>\n",
       "      <th>end_location</th>\n",
       "      <th>line_name</th>\n",
       "      <th>start_zone</th>\n",
       "      <th>end_zone</th>\n",
       "      <th>loading_date</th>\n",
       "      <th>ingestion_id</th>\n",
       "      <th>hour</th>\n",
       "    </tr>\n",
       "  </thead>\n",
       "  <tbody>\n",
       "    <tr>\n",
       "      <th>945659</th>\n",
       "      <td>False</td>\n",
       "      <td>False</td>\n",
       "      <td>False</td>\n",
       "      <td>True</td>\n",
       "      <td>False</td>\n",
       "      <td>False</td>\n",
       "      <td>False</td>\n",
       "      <td>False</td>\n",
       "      <td>False</td>\n",
       "      <td>False</td>\n",
       "      <td>False</td>\n",
       "    </tr>\n",
       "    <tr>\n",
       "      <th>945660</th>\n",
       "      <td>False</td>\n",
       "      <td>False</td>\n",
       "      <td>False</td>\n",
       "      <td>True</td>\n",
       "      <td>False</td>\n",
       "      <td>False</td>\n",
       "      <td>False</td>\n",
       "      <td>False</td>\n",
       "      <td>False</td>\n",
       "      <td>False</td>\n",
       "      <td>False</td>\n",
       "    </tr>\n",
       "    <tr>\n",
       "      <th>945661</th>\n",
       "      <td>False</td>\n",
       "      <td>False</td>\n",
       "      <td>False</td>\n",
       "      <td>True</td>\n",
       "      <td>False</td>\n",
       "      <td>False</td>\n",
       "      <td>False</td>\n",
       "      <td>False</td>\n",
       "      <td>False</td>\n",
       "      <td>False</td>\n",
       "      <td>False</td>\n",
       "    </tr>\n",
       "    <tr>\n",
       "      <th>945662</th>\n",
       "      <td>False</td>\n",
       "      <td>False</td>\n",
       "      <td>False</td>\n",
       "      <td>True</td>\n",
       "      <td>False</td>\n",
       "      <td>False</td>\n",
       "      <td>False</td>\n",
       "      <td>False</td>\n",
       "      <td>False</td>\n",
       "      <td>False</td>\n",
       "      <td>False</td>\n",
       "    </tr>\n",
       "    <tr>\n",
       "      <th>945663</th>\n",
       "      <td>False</td>\n",
       "      <td>False</td>\n",
       "      <td>False</td>\n",
       "      <td>True</td>\n",
       "      <td>False</td>\n",
       "      <td>False</td>\n",
       "      <td>False</td>\n",
       "      <td>False</td>\n",
       "      <td>False</td>\n",
       "      <td>False</td>\n",
       "      <td>False</td>\n",
       "    </tr>\n",
       "  </tbody>\n",
       "</table>\n",
       "</div>"
      ],
      "text/plain": [
       "        txn_type  txn_date  txn_time  start_location  end_location  line_name  \\\n",
       "945659     False     False     False            True         False      False   \n",
       "945660     False     False     False            True         False      False   \n",
       "945661     False     False     False            True         False      False   \n",
       "945662     False     False     False            True         False      False   \n",
       "945663     False     False     False            True         False      False   \n",
       "\n",
       "        start_zone  end_zone  loading_date  ingestion_id   hour  \n",
       "945659       False     False         False         False  False  \n",
       "945660       False     False         False         False  False  \n",
       "945661       False     False         False         False  False  \n",
       "945662       False     False         False         False  False  \n",
       "945663       False     False         False         False  False  "
      ]
     },
     "execution_count": 9,
     "metadata": {},
     "output_type": "execute_result"
    }
   ],
   "source": [
    "df.isnull().tail()"
   ]
  },
  {
   "cell_type": "code",
   "execution_count": 10,
   "metadata": {
    "scrolled": true
   },
   "outputs": [
    {
     "data": {
      "text/plain": [
       "txn_type          945664\n",
       "txn_date          945664\n",
       "txn_time          945664\n",
       "start_location    415942\n",
       "end_location      945664\n",
       "line_name         945664\n",
       "start_zone        945664\n",
       "end_zone          945664\n",
       "loading_date      945664\n",
       "ingestion_id      945664\n",
       "hour              945664\n",
       "dtype: int64"
      ]
     },
     "execution_count": 10,
     "metadata": {},
     "output_type": "execute_result"
    }
   ],
   "source": [
    "df.notnull().sum()"
   ]
  },
  {
   "cell_type": "code",
   "execution_count": 11,
   "metadata": {
    "scrolled": true
   },
   "outputs": [
    {
     "data": {
      "text/html": [
       "<div>\n",
       "<style scoped>\n",
       "    .dataframe tbody tr th:only-of-type {\n",
       "        vertical-align: middle;\n",
       "    }\n",
       "\n",
       "    .dataframe tbody tr th {\n",
       "        vertical-align: top;\n",
       "    }\n",
       "\n",
       "    .dataframe thead th {\n",
       "        text-align: right;\n",
       "    }\n",
       "</style>\n",
       "<table border=\"1\" class=\"dataframe\">\n",
       "  <thead>\n",
       "    <tr style=\"text-align: right;\">\n",
       "      <th></th>\n",
       "      <th>txn_type</th>\n",
       "      <th>txn_date</th>\n",
       "      <th>txn_time</th>\n",
       "      <th>start_location</th>\n",
       "      <th>end_location</th>\n",
       "      <th>line_name</th>\n",
       "      <th>start_zone</th>\n",
       "      <th>end_zone</th>\n",
       "      <th>loading_date</th>\n",
       "      <th>ingestion_id</th>\n",
       "      <th>hour</th>\n",
       "    </tr>\n",
       "  </thead>\n",
       "  <tbody>\n",
       "    <tr>\n",
       "      <th>0</th>\n",
       "      <td>Check in</td>\n",
       "      <td>2017-01-01</td>\n",
       "      <td>2018-08-14 14:37:19</td>\n",
       "      <td>Energy  Metro Station</td>\n",
       "      <td>Energy  Metro Station</td>\n",
       "      <td>Red Metro Line</td>\n",
       "      <td>Zone 2</td>\n",
       "      <td>Zone 2</td>\n",
       "      <td>20170719</td>\n",
       "      <td>2032</td>\n",
       "      <td>14</td>\n",
       "    </tr>\n",
       "    <tr>\n",
       "      <th>1</th>\n",
       "      <td>Check in</td>\n",
       "      <td>2017-01-01</td>\n",
       "      <td>2018-08-14 20:05:12</td>\n",
       "      <td>GGICO  Metro Station</td>\n",
       "      <td>GGICO  Metro Station</td>\n",
       "      <td>Red Metro Line</td>\n",
       "      <td>Zone 5</td>\n",
       "      <td>Zone 5</td>\n",
       "      <td>20170719</td>\n",
       "      <td>2032</td>\n",
       "      <td>20</td>\n",
       "    </tr>\n",
       "    <tr>\n",
       "      <th>2</th>\n",
       "      <td>Check in</td>\n",
       "      <td>2017-01-01</td>\n",
       "      <td>2018-08-14 16:04:29</td>\n",
       "      <td>Energy  Metro Station</td>\n",
       "      <td>Energy  Metro Station</td>\n",
       "      <td>Red Metro Line</td>\n",
       "      <td>Zone 2</td>\n",
       "      <td>Zone 2</td>\n",
       "      <td>20170719</td>\n",
       "      <td>2032</td>\n",
       "      <td>16</td>\n",
       "    </tr>\n",
       "    <tr>\n",
       "      <th>3</th>\n",
       "      <td>Check in</td>\n",
       "      <td>2017-01-01</td>\n",
       "      <td>2018-08-14 16:01:46</td>\n",
       "      <td>Energy  Metro Station</td>\n",
       "      <td>Energy  Metro Station</td>\n",
       "      <td>Red Metro Line</td>\n",
       "      <td>Zone 2</td>\n",
       "      <td>Zone 2</td>\n",
       "      <td>20170719</td>\n",
       "      <td>2032</td>\n",
       "      <td>16</td>\n",
       "    </tr>\n",
       "    <tr>\n",
       "      <th>4</th>\n",
       "      <td>Check in</td>\n",
       "      <td>2017-01-01</td>\n",
       "      <td>2018-08-14 15:11:59</td>\n",
       "      <td>Energy  Metro Station</td>\n",
       "      <td>Energy  Metro Station</td>\n",
       "      <td>Red Metro Line</td>\n",
       "      <td>Zone 2</td>\n",
       "      <td>Zone 2</td>\n",
       "      <td>20170719</td>\n",
       "      <td>2032</td>\n",
       "      <td>15</td>\n",
       "    </tr>\n",
       "  </tbody>\n",
       "</table>\n",
       "</div>"
      ],
      "text/plain": [
       "   txn_type    txn_date            txn_time         start_location  \\\n",
       "0  Check in  2017-01-01 2018-08-14 14:37:19  Energy  Metro Station   \n",
       "1  Check in  2017-01-01 2018-08-14 20:05:12   GGICO  Metro Station   \n",
       "2  Check in  2017-01-01 2018-08-14 16:04:29  Energy  Metro Station   \n",
       "3  Check in  2017-01-01 2018-08-14 16:01:46  Energy  Metro Station   \n",
       "4  Check in  2017-01-01 2018-08-14 15:11:59  Energy  Metro Station   \n",
       "\n",
       "            end_location       line_name start_zone end_zone  loading_date  \\\n",
       "0  Energy  Metro Station  Red Metro Line     Zone 2   Zone 2      20170719   \n",
       "1   GGICO  Metro Station  Red Metro Line     Zone 5   Zone 5      20170719   \n",
       "2  Energy  Metro Station  Red Metro Line     Zone 2   Zone 2      20170719   \n",
       "3  Energy  Metro Station  Red Metro Line     Zone 2   Zone 2      20170719   \n",
       "4  Energy  Metro Station  Red Metro Line     Zone 2   Zone 2      20170719   \n",
       "\n",
       "   ingestion_id  hour  \n",
       "0          2032    14  \n",
       "1          2032    20  \n",
       "2          2032    16  \n",
       "3          2032    16  \n",
       "4          2032    15  "
      ]
     },
     "execution_count": 11,
     "metadata": {},
     "output_type": "execute_result"
    }
   ],
   "source": [
    "df.head()"
   ]
  },
  {
   "cell_type": "markdown",
   "metadata": {},
   "source": [
    "# Filter by String"
   ]
  },
  {
   "cell_type": "code",
   "execution_count": 12,
   "metadata": {
    "scrolled": true
   },
   "outputs": [
    {
     "data": {
      "text/plain": [
       "array(['Energy  Metro Station', 'GGICO  Metro Station',\n",
       "       'Deira City Centre Metro Station', 'Ibn Battuta Metro Station',\n",
       "       'Al Fahidi  Metro Station', 'Union  Metro Station',\n",
       "       'Danube Metro Station', 'Al Ras Metro Station',\n",
       "       'UAE Exchange Metro Station', 'Al Ghubaiba Metro Station',\n",
       "       'Al Rigga Metro Station', 'Oud Metha Metro Station',\n",
       "       'Airport Terminal 3 Metro Station',\n",
       "       'Nakheel Harbour & Tower Metro Station',\n",
       "       'Airport Terminal 1 Metro Station',\n",
       "       'Jumeirah Lakes Towers Metro Station',\n",
       "       'Salah Al Din Metro Station',\n",
       "       'Dubai Healthcare City Metro Station', 'Nakheel Metro Station',\n",
       "       'Baniyas Square Metro Station', 'Emirates Metro Station',\n",
       "       'Creek Metro Station', 'Rashidiya Metro Station',\n",
       "       'DAMAC Properties Metro Station', 'Palm Deira Metro Station',\n",
       "       'Al Jadaf Metro Station', 'BurJuman Metro Station',\n",
       "       'Al Nahda Metro Station', 'Dubai Airport Free Zone Metro Station',\n",
       "       'ADCB Metro Station', 'World Trade Centre Metro Station',\n",
       "       'Noor Bank Metro Station', 'Etisalat Metro Station',\n",
       "       'Al Qusais  Metro Station', 'Al Jafiliya Metro Station',\n",
       "       'Al Qiyadah Metro Station', 'Dubai Internet City  Metro Station',\n",
       "       'Burj Khalifa/ Dubai Mall Metro Station', 'Stadium Metro Station',\n",
       "       'Business Bay Metro Station', 'Sharaf DG Metro Station',\n",
       "       'Abu Hail Metro Station', 'Financial Centre Metro Station',\n",
       "       'FGB Metro Station', 'Mall of the Emirates Metro Station',\n",
       "       'Abu Baker Al Siddique Metro Station',\n",
       "       'Emirates Towers Metro Station'], dtype=object)"
      ]
     },
     "execution_count": 12,
     "metadata": {},
     "output_type": "execute_result"
    }
   ],
   "source": [
    "df['end_location'].unique()"
   ]
  },
  {
   "cell_type": "code",
   "execution_count": 13,
   "metadata": {
    "scrolled": false
   },
   "outputs": [
    {
     "data": {
      "text/html": [
       "<div>\n",
       "<style scoped>\n",
       "    .dataframe tbody tr th:only-of-type {\n",
       "        vertical-align: middle;\n",
       "    }\n",
       "\n",
       "    .dataframe tbody tr th {\n",
       "        vertical-align: top;\n",
       "    }\n",
       "\n",
       "    .dataframe thead th {\n",
       "        text-align: right;\n",
       "    }\n",
       "</style>\n",
       "<table border=\"1\" class=\"dataframe\">\n",
       "  <thead>\n",
       "    <tr style=\"text-align: right;\">\n",
       "      <th></th>\n",
       "      <th>txn_type</th>\n",
       "      <th>txn_date</th>\n",
       "      <th>txn_time</th>\n",
       "      <th>start_location</th>\n",
       "      <th>end_location</th>\n",
       "      <th>line_name</th>\n",
       "      <th>start_zone</th>\n",
       "      <th>end_zone</th>\n",
       "      <th>loading_date</th>\n",
       "      <th>ingestion_id</th>\n",
       "      <th>hour</th>\n",
       "    </tr>\n",
       "  </thead>\n",
       "  <tbody>\n",
       "    <tr>\n",
       "      <th>528609</th>\n",
       "      <td>Check in</td>\n",
       "      <td>2017-01-01</td>\n",
       "      <td>2018-08-14 14:00:05</td>\n",
       "      <td>BurJuman Metro Station</td>\n",
       "      <td>BurJuman Metro Station</td>\n",
       "      <td>Red Metro Line</td>\n",
       "      <td>Zone 6</td>\n",
       "      <td>Zone 6</td>\n",
       "      <td>20170719</td>\n",
       "      <td>2032</td>\n",
       "      <td>14</td>\n",
       "    </tr>\n",
       "    <tr>\n",
       "      <th>528610</th>\n",
       "      <td>Check in</td>\n",
       "      <td>2017-01-01</td>\n",
       "      <td>2018-08-14 16:24:41</td>\n",
       "      <td>BurJuman Metro Station</td>\n",
       "      <td>BurJuman Metro Station</td>\n",
       "      <td>Red Metro Line</td>\n",
       "      <td>Zone 6</td>\n",
       "      <td>Zone 6</td>\n",
       "      <td>20170719</td>\n",
       "      <td>2032</td>\n",
       "      <td>16</td>\n",
       "    </tr>\n",
       "    <tr>\n",
       "      <th>528611</th>\n",
       "      <td>Check in</td>\n",
       "      <td>2017-01-01</td>\n",
       "      <td>2018-08-14 15:17:02</td>\n",
       "      <td>BurJuman Metro Station</td>\n",
       "      <td>BurJuman Metro Station</td>\n",
       "      <td>Red Metro Line</td>\n",
       "      <td>Zone 6</td>\n",
       "      <td>Zone 6</td>\n",
       "      <td>20170719</td>\n",
       "      <td>2032</td>\n",
       "      <td>15</td>\n",
       "    </tr>\n",
       "    <tr>\n",
       "      <th>528612</th>\n",
       "      <td>Check in</td>\n",
       "      <td>2017-01-01</td>\n",
       "      <td>2018-08-14 19:56:49</td>\n",
       "      <td>BurJuman Metro Station</td>\n",
       "      <td>BurJuman Metro Station</td>\n",
       "      <td>Red Metro Line</td>\n",
       "      <td>Zone 6</td>\n",
       "      <td>Zone 6</td>\n",
       "      <td>20170719</td>\n",
       "      <td>2032</td>\n",
       "      <td>19</td>\n",
       "    </tr>\n",
       "    <tr>\n",
       "      <th>528613</th>\n",
       "      <td>Check in</td>\n",
       "      <td>2017-01-01</td>\n",
       "      <td>2018-08-14 16:00:52</td>\n",
       "      <td>BurJuman Metro Station</td>\n",
       "      <td>BurJuman Metro Station</td>\n",
       "      <td>Red Metro Line</td>\n",
       "      <td>Zone 6</td>\n",
       "      <td>Zone 6</td>\n",
       "      <td>20170719</td>\n",
       "      <td>2032</td>\n",
       "      <td>16</td>\n",
       "    </tr>\n",
       "  </tbody>\n",
       "</table>\n",
       "</div>"
      ],
      "text/plain": [
       "        txn_type    txn_date            txn_time          start_location  \\\n",
       "528609  Check in  2017-01-01 2018-08-14 14:00:05  BurJuman Metro Station   \n",
       "528610  Check in  2017-01-01 2018-08-14 16:24:41  BurJuman Metro Station   \n",
       "528611  Check in  2017-01-01 2018-08-14 15:17:02  BurJuman Metro Station   \n",
       "528612  Check in  2017-01-01 2018-08-14 19:56:49  BurJuman Metro Station   \n",
       "528613  Check in  2017-01-01 2018-08-14 16:00:52  BurJuman Metro Station   \n",
       "\n",
       "                  end_location       line_name start_zone end_zone  \\\n",
       "528609  BurJuman Metro Station  Red Metro Line     Zone 6   Zone 6   \n",
       "528610  BurJuman Metro Station  Red Metro Line     Zone 6   Zone 6   \n",
       "528611  BurJuman Metro Station  Red Metro Line     Zone 6   Zone 6   \n",
       "528612  BurJuman Metro Station  Red Metro Line     Zone 6   Zone 6   \n",
       "528613  BurJuman Metro Station  Red Metro Line     Zone 6   Zone 6   \n",
       "\n",
       "        loading_date  ingestion_id  hour  \n",
       "528609      20170719          2032    14  \n",
       "528610      20170719          2032    16  \n",
       "528611      20170719          2032    15  \n",
       "528612      20170719          2032    19  \n",
       "528613      20170719          2032    16  "
      ]
     },
     "execution_count": 13,
     "metadata": {},
     "output_type": "execute_result"
    }
   ],
   "source": [
    "df[df.end_location.isin(['BurJuman Metro Station'])].head()"
   ]
  },
  {
   "cell_type": "code",
   "execution_count": 14,
   "metadata": {
    "scrolled": true
   },
   "outputs": [
    {
     "data": {
      "text/plain": [
       "<matplotlib.axes._subplots.AxesSubplot at 0x233846b7d30>"
      ]
     },
     "execution_count": 14,
     "metadata": {},
     "output_type": "execute_result"
    },
    {
     "data": {
      "image/png": "[encoded data removed]",
      "text/plain": [
       "<Figure size 432x288 with 1 Axes>"
      ]
     },
     "metadata": {},
     "output_type": "display_data"
    }
   ],
   "source": [
    "df[df.end_location.isin(['BurJuman Metro Station'])].hour.value_counts().sort_index().plot()"
   ]
  },
  {
   "cell_type": "code",
   "execution_count": 15,
   "metadata": {
    "scrolled": true
   },
   "outputs": [
    {
     "data": {
      "text/plain": [
       "<matplotlib.axes._subplots.AxesSubplot at 0x23385bbabe0>"
      ]
     },
     "execution_count": 15,
     "metadata": {},
     "output_type": "execute_result"
    },
    {
     "data": {
      "image/png": "[encoded data removed]",
      "text/plain": [
       "<Figure size 432x288 with 1 Axes>"
      ]
     },
     "metadata": {},
     "output_type": "display_data"
    }
   ],
   "source": [
    "df.groupby('hour').end_location.value_counts().sort_index().plot()"
   ]
  },
  {
   "cell_type": "code",
   "execution_count": 16,
   "metadata": {},
   "outputs": [],
   "source": [
    "# Group by hour for usages in plotly chart Studio "
   ]
  },
  {
   "cell_type": "code",
   "execution_count": 17,
   "metadata": {},
   "outputs": [],
   "source": [
    "df.groupby(['hour','end_location']).size().unstack(fill_value=0).to_csv('Metroridershipbyhour_weekend.csv')"
   ]
  }
 ],
 "metadata": {
  "kernelspec": {
   "display_name": "Python 3",
   "language": "python",
   "name": "python3"
  },
  "language_info": {
   "codemirror_mode": {
    "name": "ipython",
    "version": 3
   },
   "file_extension": ".py",
   "mimetype": "text/x-python",
   "name": "python",
   "nbconvert_exporter": "python",
   "pygments_lexer": "ipython3",
   "version": "3.6.5"
  }
 },
 "nbformat": 4,
 "nbformat_minor": 2
}
