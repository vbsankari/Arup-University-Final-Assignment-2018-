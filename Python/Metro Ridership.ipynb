{
 "cells": [
  {
   "cell_type": "markdown",
   "metadata": {},
   "source": [
    "# Importing Relevant data file ( Weekday)"
   ]
  },
  {
   "cell_type": "code",
   "execution_count": 1,
   "metadata": {
    "scrolled": true
   },
   "outputs": [
    {
     "data": {
      "text/html": [
       "<div>\n",
       "<style scoped>\n",
       "    .dataframe tbody tr th:only-of-type {\n",
       "        vertical-align: middle;\n",
       "    }\n",
       "\n",
       "    .dataframe tbody tr th {\n",
       "        vertical-align: top;\n",
       "    }\n",
       "\n",
       "    .dataframe thead th {\n",
       "        text-align: right;\n",
       "    }\n",
       "</style>\n",
       "<table border=\"1\" class=\"dataframe\">\n",
       "  <thead>\n",
       "    <tr style=\"text-align: right;\">\n",
       "      <th></th>\n",
       "      <th>txn_type</th>\n",
       "      <th>txn_date</th>\n",
       "      <th>txn_time</th>\n",
       "      <th>start_location</th>\n",
       "      <th>end_location</th>\n",
       "      <th>line_name</th>\n",
       "      <th>start_zone</th>\n",
       "      <th>end_zone</th>\n",
       "      <th>loading_date</th>\n",
       "      <th>ingestion_id</th>\n",
       "    </tr>\n",
       "  </thead>\n",
       "  <tbody>\n",
       "    <tr>\n",
       "      <th>0</th>\n",
       "      <td>Check in</td>\n",
       "      <td>2017-01-04</td>\n",
       "      <td>18:11:55</td>\n",
       "      <td>GGICO  Metro Station</td>\n",
       "      <td>GGICO  Metro Station</td>\n",
       "      <td>Red Metro Line</td>\n",
       "      <td>Zone 5</td>\n",
       "      <td>Zone 5</td>\n",
       "      <td>20170719</td>\n",
       "      <td>2035</td>\n",
       "    </tr>\n",
       "    <tr>\n",
       "      <th>1</th>\n",
       "      <td>Check in</td>\n",
       "      <td>2017-01-04</td>\n",
       "      <td>15:55:29</td>\n",
       "      <td>GGICO  Metro Station</td>\n",
       "      <td>GGICO  Metro Station</td>\n",
       "      <td>Red Metro Line</td>\n",
       "      <td>Zone 5</td>\n",
       "      <td>Zone 5</td>\n",
       "      <td>20170719</td>\n",
       "      <td>2035</td>\n",
       "    </tr>\n",
       "    <tr>\n",
       "      <th>2</th>\n",
       "      <td>Check in</td>\n",
       "      <td>2017-01-04</td>\n",
       "      <td>19:12:38</td>\n",
       "      <td>GGICO  Metro Station</td>\n",
       "      <td>GGICO  Metro Station</td>\n",
       "      <td>Red Metro Line</td>\n",
       "      <td>Zone 5</td>\n",
       "      <td>Zone 5</td>\n",
       "      <td>20170719</td>\n",
       "      <td>2035</td>\n",
       "    </tr>\n",
       "    <tr>\n",
       "      <th>3</th>\n",
       "      <td>Check in</td>\n",
       "      <td>2017-01-04</td>\n",
       "      <td>20:24:09</td>\n",
       "      <td>GGICO  Metro Station</td>\n",
       "      <td>GGICO  Metro Station</td>\n",
       "      <td>Red Metro Line</td>\n",
       "      <td>Zone 5</td>\n",
       "      <td>Zone 5</td>\n",
       "      <td>20170719</td>\n",
       "      <td>2035</td>\n",
       "    </tr>\n",
       "    <tr>\n",
       "      <th>4</th>\n",
       "      <td>Check in</td>\n",
       "      <td>2017-01-04</td>\n",
       "      <td>21:30:25</td>\n",
       "      <td>GGICO  Metro Station</td>\n",
       "      <td>GGICO  Metro Station</td>\n",
       "      <td>Red Metro Line</td>\n",
       "      <td>Zone 5</td>\n",
       "      <td>Zone 5</td>\n",
       "      <td>20170719</td>\n",
       "      <td>2035</td>\n",
       "    </tr>\n",
       "  </tbody>\n",
       "</table>\n",
       "</div>"
      ],
      "text/plain": [
       "   txn_type    txn_date  txn_time        start_location          end_location  \\\n",
       "0  Check in  2017-01-04  18:11:55  GGICO  Metro Station  GGICO  Metro Station   \n",
       "1  Check in  2017-01-04  15:55:29  GGICO  Metro Station  GGICO  Metro Station   \n",
       "2  Check in  2017-01-04  19:12:38  GGICO  Metro Station  GGICO  Metro Station   \n",
       "3  Check in  2017-01-04  20:24:09  GGICO  Metro Station  GGICO  Metro Station   \n",
       "4  Check in  2017-01-04  21:30:25  GGICO  Metro Station  GGICO  Metro Station   \n",
       "\n",
       "        line_name start_zone end_zone  loading_date  ingestion_id  \n",
       "0  Red Metro Line     Zone 5   Zone 5      20170719          2035  \n",
       "1  Red Metro Line     Zone 5   Zone 5      20170719          2035  \n",
       "2  Red Metro Line     Zone 5   Zone 5      20170719          2035  \n",
       "3  Red Metro Line     Zone 5   Zone 5      20170719          2035  \n",
       "4  Red Metro Line     Zone 5   Zone 5      20170719          2035  "
      ]
     },
     "execution_count": 1,
     "metadata": {},
     "output_type": "execute_result"
    }
   ],
   "source": [
    "import pandas as pd\n",
    "df=pd.read_csv('metro_ridership_2017_weekday.csv', low_memory=False)\n",
    "df.head()"
   ]
  },
  {
   "cell_type": "code",
   "execution_count": 2,
   "metadata": {
    "scrolled": true
   },
   "outputs": [
    {
     "data": {
      "text/html": [
       "<div>\n",
       "<style scoped>\n",
       "    .dataframe tbody tr th:only-of-type {\n",
       "        vertical-align: middle;\n",
       "    }\n",
       "\n",
       "    .dataframe tbody tr th {\n",
       "        vertical-align: top;\n",
       "    }\n",
       "\n",
       "    .dataframe thead th {\n",
       "        text-align: right;\n",
       "    }\n",
       "</style>\n",
       "<table border=\"1\" class=\"dataframe\">\n",
       "  <thead>\n",
       "    <tr style=\"text-align: right;\">\n",
       "      <th></th>\n",
       "      <th>station_name</th>\n",
       "      <th>line_name</th>\n",
       "      <th>station_location_longitiude</th>\n",
       "      <th>station_location_latitiude</th>\n",
       "      <th>loading_date</th>\n",
       "      <th>ingestion_id</th>\n",
       "    </tr>\n",
       "  </thead>\n",
       "  <tbody>\n",
       "    <tr>\n",
       "      <th>0</th>\n",
       "      <td>World Trade Centre Metro Station</td>\n",
       "      <td>Red Metro Line</td>\n",
       "      <td>55.285061</td>\n",
       "      <td>25.224829</td>\n",
       "      <td>20170717</td>\n",
       "      <td>2214</td>\n",
       "    </tr>\n",
       "    <tr>\n",
       "      <th>1</th>\n",
       "      <td>Emirates Towers Metro Station</td>\n",
       "      <td>Red Metro Line</td>\n",
       "      <td>55.279821</td>\n",
       "      <td>25.217214</td>\n",
       "      <td>20170717</td>\n",
       "      <td>2214</td>\n",
       "    </tr>\n",
       "    <tr>\n",
       "      <th>2</th>\n",
       "      <td>Financial Centre Metro Station</td>\n",
       "      <td>Red Metro Line</td>\n",
       "      <td>55.275587</td>\n",
       "      <td>25.211030</td>\n",
       "      <td>20170717</td>\n",
       "      <td>2214</td>\n",
       "    </tr>\n",
       "    <tr>\n",
       "      <th>3</th>\n",
       "      <td>Burj Khalifa/ Dubai Mall Metro Station</td>\n",
       "      <td>Red Metro Line</td>\n",
       "      <td>55.269518</td>\n",
       "      <td>25.201401</td>\n",
       "      <td>20170717</td>\n",
       "      <td>2214</td>\n",
       "    </tr>\n",
       "    <tr>\n",
       "      <th>4</th>\n",
       "      <td>Business Bay Metro Station</td>\n",
       "      <td>Red Metro Line</td>\n",
       "      <td>55.260419</td>\n",
       "      <td>25.191275</td>\n",
       "      <td>20170717</td>\n",
       "      <td>2214</td>\n",
       "    </tr>\n",
       "  </tbody>\n",
       "</table>\n",
       "</div>"
      ],
      "text/plain": [
       "                             station_name       line_name  \\\n",
       "0        World Trade Centre Metro Station  Red Metro Line   \n",
       "1           Emirates Towers Metro Station  Red Metro Line   \n",
       "2          Financial Centre Metro Station  Red Metro Line   \n",
       "3  Burj Khalifa/ Dubai Mall Metro Station  Red Metro Line   \n",
       "4              Business Bay Metro Station  Red Metro Line   \n",
       "\n",
       "   station_location_longitiude  station_location_latitiude  loading_date  \\\n",
       "0                    55.285061                   25.224829      20170717   \n",
       "1                    55.279821                   25.217214      20170717   \n",
       "2                    55.275587                   25.211030      20170717   \n",
       "3                    55.269518                   25.201401      20170717   \n",
       "4                    55.260419                   25.191275      20170717   \n",
       "\n",
       "   ingestion_id  \n",
       "0          2214  \n",
       "1          2214  \n",
       "2          2214  \n",
       "3          2214  \n",
       "4          2214  "
      ]
     },
     "execution_count": 2,
     "metadata": {},
     "output_type": "execute_result"
    }
   ],
   "source": [
    "df2=pd.read_csv('metro_stations.csv')\n",
    "df2.head()"
   ]
  },
  {
   "cell_type": "markdown",
   "metadata": {},
   "source": [
    "# Checking Missing Values"
   ]
  },
  {
   "cell_type": "code",
   "execution_count": 3,
   "metadata": {
    "scrolled": true
   },
   "outputs": [
    {
     "data": {
      "text/plain": [
       "txn_type          1190043\n",
       "txn_date          1190043\n",
       "txn_time          1190043\n",
       "start_location     526996\n",
       "end_location      1190043\n",
       "line_name         1190043\n",
       "start_zone        1190043\n",
       "end_zone          1190043\n",
       "loading_date      1190043\n",
       "ingestion_id      1190043\n",
       "dtype: int64"
      ]
     },
     "execution_count": 3,
     "metadata": {},
     "output_type": "execute_result"
    }
   ],
   "source": [
    "df.notnull().sum()"
   ]
  },
  {
   "cell_type": "markdown",
   "metadata": {},
   "source": [
    "# Data types and summary "
   ]
  },
  {
   "cell_type": "code",
   "execution_count": 4,
   "metadata": {
    "scrolled": true
   },
   "outputs": [
    {
     "data": {
      "text/plain": [
       "txn_type          object\n",
       "txn_date          object\n",
       "txn_time          object\n",
       "start_location    object\n",
       "end_location      object\n",
       "line_name         object\n",
       "start_zone        object\n",
       "end_zone          object\n",
       "loading_date       int64\n",
       "ingestion_id       int64\n",
       "dtype: object"
      ]
     },
     "execution_count": 4,
     "metadata": {},
     "output_type": "execute_result"
    }
   ],
   "source": [
    "df=pd.read_csv('metro_ridership_2017_weekday.csv',low_memory=False)\n",
    "df.dtypes"
   ]
  },
  {
   "cell_type": "code",
   "execution_count": 5,
   "metadata": {
    "scrolled": true
   },
   "outputs": [],
   "source": [
    "df['txn_time']=pd.to_datetime(df.txn_time)"
   ]
  },
  {
   "cell_type": "code",
   "execution_count": 6,
   "metadata": {
    "scrolled": true
   },
   "outputs": [],
   "source": [
    "%matplotlib inline"
   ]
  },
  {
   "cell_type": "code",
   "execution_count": 7,
   "metadata": {
    "scrolled": true
   },
   "outputs": [],
   "source": [
    "df['hour']=df.txn_time.dt.hour"
   ]
  },
  {
   "cell_type": "code",
   "execution_count": 8,
   "metadata": {
    "scrolled": true
   },
   "outputs": [
    {
     "data": {
      "text/plain": [
       "<matplotlib.axes._subplots.AxesSubplot at 0x2638c6a6160>"
      ]
     },
     "execution_count": 8,
     "metadata": {},
     "output_type": "execute_result"
    },
    {
     "data": {
      "image/png": "[encoded data removed]",
      "text/plain": [
       "<Figure size 432x288 with 1 Axes>"
      ]
     },
     "metadata": {},
     "output_type": "display_data"
    }
   ],
   "source": [
    "df.hour.value_counts().sort_index().plot()"
   ]
  },
  {
   "cell_type": "code",
   "execution_count": 9,
   "metadata": {},
   "outputs": [
    {
     "data": {
      "text/html": [
       "<div>\n",
       "<style scoped>\n",
       "    .dataframe tbody tr th:only-of-type {\n",
       "        vertical-align: middle;\n",
       "    }\n",
       "\n",
       "    .dataframe tbody tr th {\n",
       "        vertical-align: top;\n",
       "    }\n",
       "\n",
       "    .dataframe thead th {\n",
       "        text-align: right;\n",
       "    }\n",
       "</style>\n",
       "<table border=\"1\" class=\"dataframe\">\n",
       "  <thead>\n",
       "    <tr style=\"text-align: right;\">\n",
       "      <th></th>\n",
       "      <th>txn_type</th>\n",
       "      <th>txn_date</th>\n",
       "      <th>txn_time</th>\n",
       "      <th>start_location</th>\n",
       "      <th>end_location</th>\n",
       "      <th>line_name</th>\n",
       "      <th>start_zone</th>\n",
       "      <th>end_zone</th>\n",
       "      <th>loading_date</th>\n",
       "      <th>ingestion_id</th>\n",
       "      <th>hour</th>\n",
       "    </tr>\n",
       "  </thead>\n",
       "  <tbody>\n",
       "    <tr>\n",
       "      <th>1190038</th>\n",
       "      <td>False</td>\n",
       "      <td>False</td>\n",
       "      <td>False</td>\n",
       "      <td>True</td>\n",
       "      <td>False</td>\n",
       "      <td>False</td>\n",
       "      <td>False</td>\n",
       "      <td>False</td>\n",
       "      <td>False</td>\n",
       "      <td>False</td>\n",
       "      <td>False</td>\n",
       "    </tr>\n",
       "    <tr>\n",
       "      <th>1190039</th>\n",
       "      <td>False</td>\n",
       "      <td>False</td>\n",
       "      <td>False</td>\n",
       "      <td>True</td>\n",
       "      <td>False</td>\n",
       "      <td>False</td>\n",
       "      <td>False</td>\n",
       "      <td>False</td>\n",
       "      <td>False</td>\n",
       "      <td>False</td>\n",
       "      <td>False</td>\n",
       "    </tr>\n",
       "    <tr>\n",
       "      <th>1190040</th>\n",
       "      <td>False</td>\n",
       "      <td>False</td>\n",
       "      <td>False</td>\n",
       "      <td>True</td>\n",
       "      <td>False</td>\n",
       "      <td>False</td>\n",
       "      <td>False</td>\n",
       "      <td>False</td>\n",
       "      <td>False</td>\n",
       "      <td>False</td>\n",
       "      <td>False</td>\n",
       "    </tr>\n",
       "    <tr>\n",
       "      <th>1190041</th>\n",
       "      <td>False</td>\n",
       "      <td>False</td>\n",
       "      <td>False</td>\n",
       "      <td>True</td>\n",
       "      <td>False</td>\n",
       "      <td>False</td>\n",
       "      <td>False</td>\n",
       "      <td>False</td>\n",
       "      <td>False</td>\n",
       "      <td>False</td>\n",
       "      <td>False</td>\n",
       "    </tr>\n",
       "    <tr>\n",
       "      <th>1190042</th>\n",
       "      <td>False</td>\n",
       "      <td>False</td>\n",
       "      <td>False</td>\n",
       "      <td>True</td>\n",
       "      <td>False</td>\n",
       "      <td>False</td>\n",
       "      <td>False</td>\n",
       "      <td>False</td>\n",
       "      <td>False</td>\n",
       "      <td>False</td>\n",
       "      <td>False</td>\n",
       "    </tr>\n",
       "  </tbody>\n",
       "</table>\n",
       "</div>"
      ],
      "text/plain": [
       "         txn_type  txn_date  txn_time  start_location  end_location  \\\n",
       "1190038     False     False     False            True         False   \n",
       "1190039     False     False     False            True         False   \n",
       "1190040     False     False     False            True         False   \n",
       "1190041     False     False     False            True         False   \n",
       "1190042     False     False     False            True         False   \n",
       "\n",
       "         line_name  start_zone  end_zone  loading_date  ingestion_id   hour  \n",
       "1190038      False       False     False         False         False  False  \n",
       "1190039      False       False     False         False         False  False  \n",
       "1190040      False       False     False         False         False  False  \n",
       "1190041      False       False     False         False         False  False  \n",
       "1190042      False       False     False         False         False  False  "
      ]
     },
     "execution_count": 9,
     "metadata": {},
     "output_type": "execute_result"
    }
   ],
   "source": [
    "df.isnull().tail()"
   ]
  },
  {
   "cell_type": "code",
   "execution_count": 10,
   "metadata": {
    "scrolled": true
   },
   "outputs": [
    {
     "data": {
      "text/plain": [
       "txn_type          1190043\n",
       "txn_date          1190043\n",
       "txn_time          1190043\n",
       "start_location     526996\n",
       "end_location      1190043\n",
       "line_name         1190043\n",
       "start_zone        1190043\n",
       "end_zone          1190043\n",
       "loading_date      1190043\n",
       "ingestion_id      1190043\n",
       "hour              1190043\n",
       "dtype: int64"
      ]
     },
     "execution_count": 10,
     "metadata": {},
     "output_type": "execute_result"
    }
   ],
   "source": [
    "df.notnull().sum()"
   ]
  },
  {
   "cell_type": "code",
   "execution_count": 11,
   "metadata": {
    "scrolled": true
   },
   "outputs": [
    {
     "data": {
      "text/html": [
       "<div>\n",
       "<style scoped>\n",
       "    .dataframe tbody tr th:only-of-type {\n",
       "        vertical-align: middle;\n",
       "    }\n",
       "\n",
       "    .dataframe tbody tr th {\n",
       "        vertical-align: top;\n",
       "    }\n",
       "\n",
       "    .dataframe thead th {\n",
       "        text-align: right;\n",
       "    }\n",
       "</style>\n",
       "<table border=\"1\" class=\"dataframe\">\n",
       "  <thead>\n",
       "    <tr style=\"text-align: right;\">\n",
       "      <th></th>\n",
       "      <th>txn_type</th>\n",
       "      <th>txn_date</th>\n",
       "      <th>txn_time</th>\n",
       "      <th>start_location</th>\n",
       "      <th>end_location</th>\n",
       "      <th>line_name</th>\n",
       "      <th>start_zone</th>\n",
       "      <th>end_zone</th>\n",
       "      <th>loading_date</th>\n",
       "      <th>ingestion_id</th>\n",
       "      <th>hour</th>\n",
       "    </tr>\n",
       "  </thead>\n",
       "  <tbody>\n",
       "    <tr>\n",
       "      <th>0</th>\n",
       "      <td>Check in</td>\n",
       "      <td>2017-01-04</td>\n",
       "      <td>2018-08-14 18:11:55</td>\n",
       "      <td>GGICO  Metro Station</td>\n",
       "      <td>GGICO  Metro Station</td>\n",
       "      <td>Red Metro Line</td>\n",
       "      <td>Zone 5</td>\n",
       "      <td>Zone 5</td>\n",
       "      <td>20170719</td>\n",
       "      <td>2035</td>\n",
       "      <td>18</td>\n",
       "    </tr>\n",
       "    <tr>\n",
       "      <th>1</th>\n",
       "      <td>Check in</td>\n",
       "      <td>2017-01-04</td>\n",
       "      <td>2018-08-14 15:55:29</td>\n",
       "      <td>GGICO  Metro Station</td>\n",
       "      <td>GGICO  Metro Station</td>\n",
       "      <td>Red Metro Line</td>\n",
       "      <td>Zone 5</td>\n",
       "      <td>Zone 5</td>\n",
       "      <td>20170719</td>\n",
       "      <td>2035</td>\n",
       "      <td>15</td>\n",
       "    </tr>\n",
       "    <tr>\n",
       "      <th>2</th>\n",
       "      <td>Check in</td>\n",
       "      <td>2017-01-04</td>\n",
       "      <td>2018-08-14 19:12:38</td>\n",
       "      <td>GGICO  Metro Station</td>\n",
       "      <td>GGICO  Metro Station</td>\n",
       "      <td>Red Metro Line</td>\n",
       "      <td>Zone 5</td>\n",
       "      <td>Zone 5</td>\n",
       "      <td>20170719</td>\n",
       "      <td>2035</td>\n",
       "      <td>19</td>\n",
       "    </tr>\n",
       "    <tr>\n",
       "      <th>3</th>\n",
       "      <td>Check in</td>\n",
       "      <td>2017-01-04</td>\n",
       "      <td>2018-08-14 20:24:09</td>\n",
       "      <td>GGICO  Metro Station</td>\n",
       "      <td>GGICO  Metro Station</td>\n",
       "      <td>Red Metro Line</td>\n",
       "      <td>Zone 5</td>\n",
       "      <td>Zone 5</td>\n",
       "      <td>20170719</td>\n",
       "      <td>2035</td>\n",
       "      <td>20</td>\n",
       "    </tr>\n",
       "    <tr>\n",
       "      <th>4</th>\n",
       "      <td>Check in</td>\n",
       "      <td>2017-01-04</td>\n",
       "      <td>2018-08-14 21:30:25</td>\n",
       "      <td>GGICO  Metro Station</td>\n",
       "      <td>GGICO  Metro Station</td>\n",
       "      <td>Red Metro Line</td>\n",
       "      <td>Zone 5</td>\n",
       "      <td>Zone 5</td>\n",
       "      <td>20170719</td>\n",
       "      <td>2035</td>\n",
       "      <td>21</td>\n",
       "    </tr>\n",
       "  </tbody>\n",
       "</table>\n",
       "</div>"
      ],
      "text/plain": [
       "   txn_type    txn_date            txn_time        start_location  \\\n",
       "0  Check in  2017-01-04 2018-08-14 18:11:55  GGICO  Metro Station   \n",
       "1  Check in  2017-01-04 2018-08-14 15:55:29  GGICO  Metro Station   \n",
       "2  Check in  2017-01-04 2018-08-14 19:12:38  GGICO  Metro Station   \n",
       "3  Check in  2017-01-04 2018-08-14 20:24:09  GGICO  Metro Station   \n",
       "4  Check in  2017-01-04 2018-08-14 21:30:25  GGICO  Metro Station   \n",
       "\n",
       "           end_location       line_name start_zone end_zone  loading_date  \\\n",
       "0  GGICO  Metro Station  Red Metro Line     Zone 5   Zone 5      20170719   \n",
       "1  GGICO  Metro Station  Red Metro Line     Zone 5   Zone 5      20170719   \n",
       "2  GGICO  Metro Station  Red Metro Line     Zone 5   Zone 5      20170719   \n",
       "3  GGICO  Metro Station  Red Metro Line     Zone 5   Zone 5      20170719   \n",
       "4  GGICO  Metro Station  Red Metro Line     Zone 5   Zone 5      20170719   \n",
       "\n",
       "   ingestion_id  hour  \n",
       "0          2035    18  \n",
       "1          2035    15  \n",
       "2          2035    19  \n",
       "3          2035    20  \n",
       "4          2035    21  "
      ]
     },
     "execution_count": 11,
     "metadata": {},
     "output_type": "execute_result"
    }
   ],
   "source": [
    "df.head()"
   ]
  },
  {
   "cell_type": "markdown",
   "metadata": {},
   "source": [
    "# Filter by String"
   ]
  },
  {
   "cell_type": "code",
   "execution_count": 12,
   "metadata": {
    "scrolled": true
   },
   "outputs": [
    {
     "data": {
      "text/plain": [
       "array(['GGICO  Metro Station', 'Energy  Metro Station',\n",
       "       'Al Fahidi  Metro Station', 'Deira City Centre Metro Station',\n",
       "       'Ibn Battuta Metro Station', 'Danube Metro Station',\n",
       "       'Union  Metro Station', 'Al Ras Metro Station',\n",
       "       'Al Ghubaiba Metro Station', 'Al Rigga Metro Station',\n",
       "       'UAE Exchange Metro Station', 'Oud Metha Metro Station',\n",
       "       'Airport Terminal 3 Metro Station',\n",
       "       'Nakheel Harbour & Tower Metro Station',\n",
       "       'Airport Terminal 1 Metro Station', 'Salah Al Din Metro Station',\n",
       "       'Jumeirah Lakes Towers Metro Station',\n",
       "       'Dubai Healthcare City Metro Station',\n",
       "       'Baniyas Square Metro Station', 'Emirates Metro Station',\n",
       "       'Nakheel Metro Station', 'Creek Metro Station',\n",
       "       'Rashidiya Metro Station', 'DAMAC Properties Metro Station',\n",
       "       'Palm Deira Metro Station', 'Al Jadaf Metro Station',\n",
       "       'BurJuman Metro Station', 'Al Nahda Metro Station',\n",
       "       'Dubai Airport Free Zone Metro Station', 'ADCB Metro Station',\n",
       "       'World Trade Centre Metro Station', 'Etisalat Metro Station',\n",
       "       'Noor Bank Metro Station', 'Al Jafiliya Metro Station',\n",
       "       'Al Qusais  Metro Station', 'Dubai Internet City  Metro Station',\n",
       "       'Burj Khalifa/ Dubai Mall Metro Station',\n",
       "       'Al Qiyadah Metro Station', 'Business Bay Metro Station',\n",
       "       'Sharaf DG Metro Station', 'Stadium Metro Station',\n",
       "       'FGB Metro Station', 'Financial Centre Metro Station',\n",
       "       'Abu Hail Metro Station', 'Abu Baker Al Siddique Metro Station',\n",
       "       'Emirates Towers Metro Station',\n",
       "       'Mall of the Emirates Metro Station'], dtype=object)"
      ]
     },
     "execution_count": 12,
     "metadata": {},
     "output_type": "execute_result"
    }
   ],
   "source": [
    "df['end_location'].unique()"
   ]
  },
  {
   "cell_type": "code",
   "execution_count": 13,
   "metadata": {
    "scrolled": false
   },
   "outputs": [
    {
     "data": {
      "text/html": [
       "<div>\n",
       "<style scoped>\n",
       "    .dataframe tbody tr th:only-of-type {\n",
       "        vertical-align: middle;\n",
       "    }\n",
       "\n",
       "    .dataframe tbody tr th {\n",
       "        vertical-align: top;\n",
       "    }\n",
       "\n",
       "    .dataframe thead th {\n",
       "        text-align: right;\n",
       "    }\n",
       "</style>\n",
       "<table border=\"1\" class=\"dataframe\">\n",
       "  <thead>\n",
       "    <tr style=\"text-align: right;\">\n",
       "      <th></th>\n",
       "      <th>txn_type</th>\n",
       "      <th>txn_date</th>\n",
       "      <th>txn_time</th>\n",
       "      <th>start_location</th>\n",
       "      <th>end_location</th>\n",
       "      <th>line_name</th>\n",
       "      <th>start_zone</th>\n",
       "      <th>end_zone</th>\n",
       "      <th>loading_date</th>\n",
       "      <th>ingestion_id</th>\n",
       "      <th>hour</th>\n",
       "    </tr>\n",
       "  </thead>\n",
       "  <tbody>\n",
       "    <tr>\n",
       "      <th>600621</th>\n",
       "      <td>Check in</td>\n",
       "      <td>2017-01-04</td>\n",
       "      <td>2018-08-14 17:19:32</td>\n",
       "      <td>BurJuman Metro Station</td>\n",
       "      <td>BurJuman Metro Station</td>\n",
       "      <td>Red Metro Line</td>\n",
       "      <td>Zone 6</td>\n",
       "      <td>Zone 6</td>\n",
       "      <td>20170719</td>\n",
       "      <td>2035</td>\n",
       "      <td>17</td>\n",
       "    </tr>\n",
       "    <tr>\n",
       "      <th>600622</th>\n",
       "      <td>Check in</td>\n",
       "      <td>2017-01-04</td>\n",
       "      <td>2018-08-14 14:34:08</td>\n",
       "      <td>BurJuman Metro Station</td>\n",
       "      <td>BurJuman Metro Station</td>\n",
       "      <td>Red Metro Line</td>\n",
       "      <td>Zone 6</td>\n",
       "      <td>Zone 6</td>\n",
       "      <td>20170719</td>\n",
       "      <td>2035</td>\n",
       "      <td>14</td>\n",
       "    </tr>\n",
       "    <tr>\n",
       "      <th>600623</th>\n",
       "      <td>Check in</td>\n",
       "      <td>2017-01-04</td>\n",
       "      <td>2018-08-14 18:49:10</td>\n",
       "      <td>BurJuman Metro Station</td>\n",
       "      <td>BurJuman Metro Station</td>\n",
       "      <td>Red Metro Line</td>\n",
       "      <td>Zone 6</td>\n",
       "      <td>Zone 6</td>\n",
       "      <td>20170719</td>\n",
       "      <td>2035</td>\n",
       "      <td>18</td>\n",
       "    </tr>\n",
       "    <tr>\n",
       "      <th>600624</th>\n",
       "      <td>Check in</td>\n",
       "      <td>2017-01-04</td>\n",
       "      <td>2018-08-14 11:04:00</td>\n",
       "      <td>BurJuman Metro Station</td>\n",
       "      <td>BurJuman Metro Station</td>\n",
       "      <td>Red Metro Line</td>\n",
       "      <td>Zone 6</td>\n",
       "      <td>Zone 6</td>\n",
       "      <td>20170719</td>\n",
       "      <td>2035</td>\n",
       "      <td>11</td>\n",
       "    </tr>\n",
       "    <tr>\n",
       "      <th>600625</th>\n",
       "      <td>Check in</td>\n",
       "      <td>2017-01-04</td>\n",
       "      <td>2018-08-14 20:35:50</td>\n",
       "      <td>BurJuman Metro Station</td>\n",
       "      <td>BurJuman Metro Station</td>\n",
       "      <td>Red Metro Line</td>\n",
       "      <td>Zone 6</td>\n",
       "      <td>Zone 6</td>\n",
       "      <td>20170719</td>\n",
       "      <td>2035</td>\n",
       "      <td>20</td>\n",
       "    </tr>\n",
       "  </tbody>\n",
       "</table>\n",
       "</div>"
      ],
      "text/plain": [
       "        txn_type    txn_date            txn_time          start_location  \\\n",
       "600621  Check in  2017-01-04 2018-08-14 17:19:32  BurJuman Metro Station   \n",
       "600622  Check in  2017-01-04 2018-08-14 14:34:08  BurJuman Metro Station   \n",
       "600623  Check in  2017-01-04 2018-08-14 18:49:10  BurJuman Metro Station   \n",
       "600624  Check in  2017-01-04 2018-08-14 11:04:00  BurJuman Metro Station   \n",
       "600625  Check in  2017-01-04 2018-08-14 20:35:50  BurJuman Metro Station   \n",
       "\n",
       "                  end_location       line_name start_zone end_zone  \\\n",
       "600621  BurJuman Metro Station  Red Metro Line     Zone 6   Zone 6   \n",
       "600622  BurJuman Metro Station  Red Metro Line     Zone 6   Zone 6   \n",
       "600623  BurJuman Metro Station  Red Metro Line     Zone 6   Zone 6   \n",
       "600624  BurJuman Metro Station  Red Metro Line     Zone 6   Zone 6   \n",
       "600625  BurJuman Metro Station  Red Metro Line     Zone 6   Zone 6   \n",
       "\n",
       "        loading_date  ingestion_id  hour  \n",
       "600621      20170719          2035    17  \n",
       "600622      20170719          2035    14  \n",
       "600623      20170719          2035    18  \n",
       "600624      20170719          2035    11  \n",
       "600625      20170719          2035    20  "
      ]
     },
     "execution_count": 13,
     "metadata": {},
     "output_type": "execute_result"
    }
   ],
   "source": [
    "df[df.end_location.isin(['BurJuman Metro Station'])].head()"
   ]
  },
  {
   "cell_type": "code",
   "execution_count": 14,
   "metadata": {
    "scrolled": true
   },
   "outputs": [
    {
     "data": {
      "text/plain": [
       "<matplotlib.axes._subplots.AxesSubplot at 0x2638ca149b0>"
      ]
     },
     "execution_count": 14,
     "metadata": {},
     "output_type": "execute_result"
    },
    {
     "data": {
      "image/png": "[encoded data removed]",
      "text/plain": [
       "<Figure size 432x288 with 1 Axes>"
      ]
     },
     "metadata": {},
     "output_type": "display_data"
    }
   ],
   "source": [
    "df[df.end_location.isin(['BurJuman Metro Station'])].hour.value_counts().sort_index().plot()"
   ]
  },
  {
   "cell_type": "code",
   "execution_count": 15,
   "metadata": {
    "scrolled": true
   },
   "outputs": [
    {
     "data": {
      "text/plain": [
       "<matplotlib.axes._subplots.AxesSubplot at 0x2638ca89b70>"
      ]
     },
     "execution_count": 15,
     "metadata": {},
     "output_type": "execute_result"
    },
    {
     "data": {
      "image/png": "[encoded data removed]",
      "text/plain": [
       "<Figure size 432x288 with 1 Axes>"
      ]
     },
     "metadata": {},
     "output_type": "display_data"
    }
   ],
   "source": [
    "df.groupby('hour').end_location.value_counts().sort_index().plot()"
   ]
  },
  {
   "cell_type": "code",
   "execution_count": 20,
   "metadata": {},
   "outputs": [],
   "source": [
    "# Group by hour for usages in plotly chart Studio "
   ]
  },
  {
   "cell_type": "code",
   "execution_count": 40,
   "metadata": {},
   "outputs": [],
   "source": [
    "df.groupby(['hour','end_location']).size().unstack(fill_value=0).to_csv('Metroridershipbyhour_weekday.csv')"
   ]
  },
  {
   "cell_type": "code",
   "execution_count": 38,
   "metadata": {},
   "outputs": [],
   "source": [
    "df.to_csv('Metroridershipbyhour.csv')"
   ]
  },
  {
   "cell_type": "code",
   "execution_count": 22,
   "metadata": {},
   "outputs": [],
   "source": [
    "# combining multiple csv file , Daily metro ridership into one"
   ]
  },
  {
   "cell_type": "code",
   "execution_count": 23,
   "metadata": {},
   "outputs": [],
   "source": [
    "import glob\n",
    "\n",
    "import pandas as pd\n",
    "fds = []\n",
    "for f in glob.glob(\"**/*.csv\"):\n",
    "   fds.append(pd.read_csv(f,low_memory=False))\n",
    "frame = pd.concat(fds)"
   ]
  },
  {
   "cell_type": "code",
   "execution_count": 24,
   "metadata": {},
   "outputs": [
    {
     "data": {
      "text/html": [
       "<div>\n",
       "<style scoped>\n",
       "    .dataframe tbody tr th:only-of-type {\n",
       "        vertical-align: middle;\n",
       "    }\n",
       "\n",
       "    .dataframe tbody tr th {\n",
       "        vertical-align: top;\n",
       "    }\n",
       "\n",
       "    .dataframe thead th {\n",
       "        text-align: right;\n",
       "    }\n",
       "</style>\n",
       "<table border=\"1\" class=\"dataframe\">\n",
       "  <thead>\n",
       "    <tr style=\"text-align: right;\">\n",
       "      <th></th>\n",
       "      <th>txn_type</th>\n",
       "      <th>txn_date</th>\n",
       "      <th>txn_time</th>\n",
       "      <th>start_location</th>\n",
       "      <th>end_location</th>\n",
       "      <th>line_name</th>\n",
       "      <th>start_zone</th>\n",
       "      <th>end_zone</th>\n",
       "      <th>loading_date</th>\n",
       "      <th>ingestion_id</th>\n",
       "    </tr>\n",
       "  </thead>\n",
       "  <tbody>\n",
       "    <tr>\n",
       "      <th>0</th>\n",
       "      <td>Check in</td>\n",
       "      <td>2017-01-01</td>\n",
       "      <td>14:37:19</td>\n",
       "      <td>Energy  Metro Station</td>\n",
       "      <td>Energy  Metro Station</td>\n",
       "      <td>Red Metro Line</td>\n",
       "      <td>Zone 2</td>\n",
       "      <td>Zone 2</td>\n",
       "      <td>20170719</td>\n",
       "      <td>2032</td>\n",
       "    </tr>\n",
       "    <tr>\n",
       "      <th>1</th>\n",
       "      <td>Check in</td>\n",
       "      <td>2017-01-01</td>\n",
       "      <td>20:05:12</td>\n",
       "      <td>GGICO  Metro Station</td>\n",
       "      <td>GGICO  Metro Station</td>\n",
       "      <td>Red Metro Line</td>\n",
       "      <td>Zone 5</td>\n",
       "      <td>Zone 5</td>\n",
       "      <td>20170719</td>\n",
       "      <td>2032</td>\n",
       "    </tr>\n",
       "    <tr>\n",
       "      <th>2</th>\n",
       "      <td>Check in</td>\n",
       "      <td>2017-01-01</td>\n",
       "      <td>16:04:29</td>\n",
       "      <td>Energy  Metro Station</td>\n",
       "      <td>Energy  Metro Station</td>\n",
       "      <td>Red Metro Line</td>\n",
       "      <td>Zone 2</td>\n",
       "      <td>Zone 2</td>\n",
       "      <td>20170719</td>\n",
       "      <td>2032</td>\n",
       "    </tr>\n",
       "    <tr>\n",
       "      <th>3</th>\n",
       "      <td>Check in</td>\n",
       "      <td>2017-01-01</td>\n",
       "      <td>16:01:46</td>\n",
       "      <td>Energy  Metro Station</td>\n",
       "      <td>Energy  Metro Station</td>\n",
       "      <td>Red Metro Line</td>\n",
       "      <td>Zone 2</td>\n",
       "      <td>Zone 2</td>\n",
       "      <td>20170719</td>\n",
       "      <td>2032</td>\n",
       "    </tr>\n",
       "    <tr>\n",
       "      <th>4</th>\n",
       "      <td>Check in</td>\n",
       "      <td>2017-01-01</td>\n",
       "      <td>15:11:59</td>\n",
       "      <td>Energy  Metro Station</td>\n",
       "      <td>Energy  Metro Station</td>\n",
       "      <td>Red Metro Line</td>\n",
       "      <td>Zone 2</td>\n",
       "      <td>Zone 2</td>\n",
       "      <td>20170719</td>\n",
       "      <td>2032</td>\n",
       "    </tr>\n",
       "  </tbody>\n",
       "</table>\n",
       "</div>"
      ],
      "text/plain": [
       "   txn_type    txn_date  txn_time         start_location  \\\n",
       "0  Check in  2017-01-01  14:37:19  Energy  Metro Station   \n",
       "1  Check in  2017-01-01  20:05:12   GGICO  Metro Station   \n",
       "2  Check in  2017-01-01  16:04:29  Energy  Metro Station   \n",
       "3  Check in  2017-01-01  16:01:46  Energy  Metro Station   \n",
       "4  Check in  2017-01-01  15:11:59  Energy  Metro Station   \n",
       "\n",
       "            end_location       line_name start_zone end_zone  loading_date  \\\n",
       "0  Energy  Metro Station  Red Metro Line     Zone 2   Zone 2      20170719   \n",
       "1   GGICO  Metro Station  Red Metro Line     Zone 5   Zone 5      20170719   \n",
       "2  Energy  Metro Station  Red Metro Line     Zone 2   Zone 2      20170719   \n",
       "3  Energy  Metro Station  Red Metro Line     Zone 2   Zone 2      20170719   \n",
       "4  Energy  Metro Station  Red Metro Line     Zone 2   Zone 2      20170719   \n",
       "\n",
       "   ingestion_id  \n",
       "0          2032  \n",
       "1          2032  \n",
       "2          2032  \n",
       "3          2032  \n",
       "4          2032  "
      ]
     },
     "execution_count": 24,
     "metadata": {},
     "output_type": "execute_result"
    }
   ],
   "source": [
    "frame.head()"
   ]
  },
  {
   "cell_type": "code",
   "execution_count": 25,
   "metadata": {},
   "outputs": [
    {
     "data": {
      "text/plain": [
       "txn_type          object\n",
       "txn_date          object\n",
       "txn_time          object\n",
       "start_location    object\n",
       "end_location      object\n",
       "line_name         object\n",
       "start_zone        object\n",
       "end_zone          object\n",
       "loading_date       int64\n",
       "ingestion_id       int64\n",
       "dtype: object"
      ]
     },
     "execution_count": 25,
     "metadata": {},
     "output_type": "execute_result"
    }
   ],
   "source": [
    "frame.dtypes"
   ]
  },
  {
   "cell_type": "code",
   "execution_count": 26,
   "metadata": {},
   "outputs": [
    {
     "data": {
      "text/plain": [
       "array(['2017-01-01', '2017-01-02', '2017-01-03', '2017-01-04',\n",
       "       '2017-01-05', '2017-01-06'], dtype=object)"
      ]
     },
     "execution_count": 26,
     "metadata": {},
     "output_type": "execute_result"
    }
   ],
   "source": [
    "frame['txn_date'].unique()"
   ]
  },
  {
   "cell_type": "code",
   "execution_count": 27,
   "metadata": {},
   "outputs": [],
   "source": [
    "metroweekly=frame"
   ]
  },
  {
   "cell_type": "code",
   "execution_count": 28,
   "metadata": {},
   "outputs": [],
   "source": [
    "metroweekly['txn_date']=pd.to_datetime(metroweekly.txn_date)\n",
    "metroweekly['day']=metroweekly.txn_date.dt.day"
   ]
  },
  {
   "cell_type": "code",
   "execution_count": 29,
   "metadata": {},
   "outputs": [
    {
     "data": {
      "text/plain": [
       "array([1, 2, 3, 4, 5, 6], dtype=int64)"
      ]
     },
     "execution_count": 29,
     "metadata": {},
     "output_type": "execute_result"
    }
   ],
   "source": [
    "metroweekly['day'].unique()"
   ]
  },
  {
   "cell_type": "code",
   "execution_count": 30,
   "metadata": {},
   "outputs": [],
   "source": [
    "#filter Check IN\n",
    "metroweekly_ci = metroweekly[metroweekly['txn_type'].str.contains(\"Check in\")]\n",
    "\n",
    "#filter Check OUT\n",
    "metroweekly_co = metroweekly[metroweekly['txn_type'].str.contains(\"Check out\")]"
   ]
  },
  {
   "cell_type": "code",
   "execution_count": 31,
   "metadata": {},
   "outputs": [
    {
     "data": {
      "text/plain": [
       "(3282143, 11)"
      ]
     },
     "execution_count": 31,
     "metadata": {},
     "output_type": "execute_result"
    }
   ],
   "source": [
    "metroweekly_ci.shape"
   ]
  },
  {
   "cell_type": "code",
   "execution_count": 32,
   "metadata": {},
   "outputs": [
    {
     "data": {
      "text/plain": [
       "(3280043, 11)"
      ]
     },
     "execution_count": 32,
     "metadata": {},
     "output_type": "execute_result"
    }
   ],
   "source": [
    "metroweekly_co.shape"
   ]
  },
  {
   "cell_type": "code",
   "execution_count": 36,
   "metadata": {},
   "outputs": [],
   "source": [
    "# creating CSV files for input into Ploy graph of average daily ridership "
   ]
  },
  {
   "cell_type": "code",
   "execution_count": 37,
   "metadata": {},
   "outputs": [],
   "source": [
    "metrosummary_Boarding = metroweekly_ci.txn_date.value_counts()\n",
    "metrosummary_Boarding.to_csv('MetrosummarydailyBoading.csv')\n",
    "metrosummary_Alighting = metroweekly_co.txn_date.value_counts()\n",
    "metrosummary_Alighting.to_csv('MetrosummarydailyAlighting.csv')"
   ]
  },
  {
   "cell_type": "code",
   "execution_count": 34,
   "metadata": {},
   "outputs": [
    {
     "data": {
      "text/plain": [
       "Int64Index([     0,      1,      2,      3,      4,      5,      6,      7,\n",
       "                 8,      9,\n",
       "            ...\n",
       "            775231, 775232, 775233, 775234, 775235, 775236, 775237, 775238,\n",
       "            775239, 775240],\n",
       "           dtype='int64', length=6562186)"
      ]
     },
     "execution_count": 34,
     "metadata": {},
     "output_type": "execute_result"
    }
   ],
   "source": [
    "metroweekly.index"
   ]
  },
  {
   "cell_type": "code",
   "execution_count": 35,
   "metadata": {},
   "outputs": [
    {
     "data": {
      "text/plain": [
       "array([1, 2, 3, 4, 5, 6], dtype=int64)"
      ]
     },
     "execution_count": 35,
     "metadata": {},
     "output_type": "execute_result"
    }
   ],
   "source": [
    "metroweekly['day'].unique()"
   ]
  }
 ],
 "metadata": {
  "kernelspec": {
   "display_name": "Python 3",
   "language": "python",
   "name": "python3"
  },
  "language_info": {
   "codemirror_mode": {
    "name": "ipython",
    "version": 3
   },
   "file_extension": ".py",
   "mimetype": "text/x-python",
   "name": "python",
   "nbconvert_exporter": "python",
   "pygments_lexer": "ipython3",
   "version": "3.6.5"
  }
 },
 "nbformat": 4,
 "nbformat_minor": 2
}
