{
 "cells": [
  {
   "cell_type": "markdown",
   "metadata": {},
   "source": [
    "# Importing & reading csv files"
   ]
  },
  {
   "cell_type": "code",
   "execution_count": 1,
   "metadata": {},
   "outputs": [
    {
     "data": {
      "text/html": [
       "<div>\n",
       "<style scoped>\n",
       "    .dataframe tbody tr th:only-of-type {\n",
       "        vertical-align: middle;\n",
       "    }\n",
       "\n",
       "    .dataframe tbody tr th {\n",
       "        vertical-align: top;\n",
       "    }\n",
       "\n",
       "    .dataframe thead th {\n",
       "        text-align: right;\n",
       "    }\n",
       "</style>\n",
       "<table border=\"1\" class=\"dataframe\">\n",
       "  <thead>\n",
       "    <tr style=\"text-align: right;\">\n",
       "      <th></th>\n",
       "      <th>txn_type</th>\n",
       "      <th>txn_date</th>\n",
       "      <th>txn_time</th>\n",
       "      <th>start_location</th>\n",
       "      <th>end_location</th>\n",
       "      <th>route_name</th>\n",
       "      <th>start_zone</th>\n",
       "      <th>end_zone</th>\n",
       "      <th>loading_date</th>\n",
       "      <th>ingestion_id</th>\n",
       "    </tr>\n",
       "  </thead>\n",
       "  <tbody>\n",
       "    <tr>\n",
       "      <th>0</th>\n",
       "      <td>Check in</td>\n",
       "      <td>2017-01-06</td>\n",
       "      <td>18:18:17</td>\n",
       "      <td>Arabian Orchard Complex A 1</td>\n",
       "      <td>Arabian Orchard Complex A 1</td>\n",
       "      <td>F46</td>\n",
       "      <td>Zone 1</td>\n",
       "      <td>Zone 1</td>\n",
       "      <td>20170718</td>\n",
       "      <td>1603</td>\n",
       "    </tr>\n",
       "    <tr>\n",
       "      <th>1</th>\n",
       "      <td>Check in</td>\n",
       "      <td>2017-01-06</td>\n",
       "      <td>13:15:33</td>\n",
       "      <td>Ibn Battuta, Food Court 3</td>\n",
       "      <td>Ibn Battuta, Food Court 3</td>\n",
       "      <td>F42</td>\n",
       "      <td>Zone 2</td>\n",
       "      <td>Zone 2</td>\n",
       "      <td>20170718</td>\n",
       "      <td>1603</td>\n",
       "    </tr>\n",
       "    <tr>\n",
       "      <th>2</th>\n",
       "      <td>Check in</td>\n",
       "      <td>2017-01-06</td>\n",
       "      <td>20:04:59</td>\n",
       "      <td>Ibn Battuta, Food Court 3</td>\n",
       "      <td>Ibn Battuta, Food Court 3</td>\n",
       "      <td>F43</td>\n",
       "      <td>Zone 2</td>\n",
       "      <td>Zone 2</td>\n",
       "      <td>20170718</td>\n",
       "      <td>1603</td>\n",
       "    </tr>\n",
       "    <tr>\n",
       "      <th>3</th>\n",
       "      <td>Check in</td>\n",
       "      <td>2017-01-06</td>\n",
       "      <td>20:57:56</td>\n",
       "      <td>Ibn Battuta, Food Court 3</td>\n",
       "      <td>Ibn Battuta, Food Court 3</td>\n",
       "      <td>F43</td>\n",
       "      <td>Zone 2</td>\n",
       "      <td>Zone 2</td>\n",
       "      <td>20170718</td>\n",
       "      <td>1603</td>\n",
       "    </tr>\n",
       "    <tr>\n",
       "      <th>4</th>\n",
       "      <td>Check in</td>\n",
       "      <td>2017-01-06</td>\n",
       "      <td>14:02:17</td>\n",
       "      <td>Ibn Battuta, Food Court 3</td>\n",
       "      <td>Ibn Battuta, Food Court 3</td>\n",
       "      <td>F46</td>\n",
       "      <td>Zone 2</td>\n",
       "      <td>Zone 2</td>\n",
       "      <td>20170718</td>\n",
       "      <td>1603</td>\n",
       "    </tr>\n",
       "  </tbody>\n",
       "</table>\n",
       "</div>"
      ],
      "text/plain": [
       "   txn_type    txn_date  txn_time               start_location  \\\n",
       "0  Check in  2017-01-06  18:18:17  Arabian Orchard Complex A 1   \n",
       "1  Check in  2017-01-06  13:15:33    Ibn Battuta, Food Court 3   \n",
       "2  Check in  2017-01-06  20:04:59    Ibn Battuta, Food Court 3   \n",
       "3  Check in  2017-01-06  20:57:56    Ibn Battuta, Food Court 3   \n",
       "4  Check in  2017-01-06  14:02:17    Ibn Battuta, Food Court 3   \n",
       "\n",
       "                  end_location route_name start_zone end_zone  loading_date  \\\n",
       "0  Arabian Orchard Complex A 1        F46     Zone 1   Zone 1      20170718   \n",
       "1    Ibn Battuta, Food Court 3        F42     Zone 2   Zone 2      20170718   \n",
       "2    Ibn Battuta, Food Court 3        F43     Zone 2   Zone 2      20170718   \n",
       "3    Ibn Battuta, Food Court 3        F43     Zone 2   Zone 2      20170718   \n",
       "4    Ibn Battuta, Food Court 3        F46     Zone 2   Zone 2      20170718   \n",
       "\n",
       "   ingestion_id  \n",
       "0          1603  \n",
       "1          1603  \n",
       "2          1603  \n",
       "3          1603  \n",
       "4          1603  "
      ]
     },
     "execution_count": 1,
     "metadata": {},
     "output_type": "execute_result"
    }
   ],
   "source": [
    "import pandas as pd\n",
    "dfr = pd.read_csv('bus_ridership.csv', keep_default_na=False, na_values=[\"\"])\n",
    "dfr.head()"
   ]
  },
  {
   "cell_type": "code",
   "execution_count": 2,
   "metadata": {},
   "outputs": [
    {
     "data": {
      "text/plain": [
       "(656149, 10)"
      ]
     },
     "execution_count": 2,
     "metadata": {},
     "output_type": "execute_result"
    }
   ],
   "source": [
    "dfr.shape"
   ]
  },
  {
   "cell_type": "markdown",
   "metadata": {},
   "source": [
    "# Empty values"
   ]
  },
  {
   "cell_type": "code",
   "execution_count": 3,
   "metadata": {},
   "outputs": [
    {
     "data": {
      "text/plain": [
       "txn_type          656149\n",
       "txn_date          656149\n",
       "txn_time          656149\n",
       "start_location    274342\n",
       "end_location      656149\n",
       "route_name        656149\n",
       "start_zone        656149\n",
       "end_zone          656149\n",
       "loading_date      656149\n",
       "ingestion_id      656149\n",
       "dtype: int64"
      ]
     },
     "execution_count": 3,
     "metadata": {},
     "output_type": "execute_result"
    }
   ],
   "source": [
    "dfr.notnull().sum()"
   ]
  },
  {
   "cell_type": "code",
   "execution_count": 4,
   "metadata": {},
   "outputs": [
    {
     "data": {
      "text/plain": [
       "txn_type               0\n",
       "txn_date               0\n",
       "txn_time               0\n",
       "start_location    381807\n",
       "end_location           0\n",
       "route_name             0\n",
       "start_zone             0\n",
       "end_zone               0\n",
       "loading_date           0\n",
       "ingestion_id           0\n",
       "dtype: int64"
      ]
     },
     "execution_count": 4,
     "metadata": {},
     "output_type": "execute_result"
    }
   ],
   "source": [
    "dfr.isnull().sum()"
   ]
  },
  {
   "cell_type": "markdown",
   "metadata": {},
   "source": [
    "# Column summary & types"
   ]
  },
  {
   "cell_type": "code",
   "execution_count": 5,
   "metadata": {},
   "outputs": [
    {
     "data": {
      "text/plain": [
       "txn_type          object\n",
       "txn_date          object\n",
       "txn_time          object\n",
       "start_location    object\n",
       "end_location      object\n",
       "route_name        object\n",
       "start_zone        object\n",
       "end_zone          object\n",
       "loading_date       int64\n",
       "ingestion_id       int64\n",
       "dtype: object"
      ]
     },
     "execution_count": 5,
     "metadata": {},
     "output_type": "execute_result"
    }
   ],
   "source": [
    "dfr.dtypes"
   ]
  },
  {
   "cell_type": "code",
   "execution_count": 6,
   "metadata": {},
   "outputs": [
    {
     "data": {
      "text/plain": [
       "(6721, 10)"
      ]
     },
     "execution_count": 6,
     "metadata": {},
     "output_type": "execute_result"
    }
   ],
   "source": [
    "#filter dataframe by rows containing 'BurJuman'\n",
    "dfr_bj = dfr[dfr['end_location'].str.contains(\"BurJuman\")]\n",
    "dfr_bj.shape"
   ]
  },
  {
   "cell_type": "code",
   "execution_count": 7,
   "metadata": {},
   "outputs": [
    {
     "data": {
      "text/plain": [
       "2115"
      ]
     },
     "execution_count": 7,
     "metadata": {},
     "output_type": "execute_result"
    }
   ],
   "source": [
    "dfr['end_location'].nunique()"
   ]
  },
  {
   "cell_type": "markdown",
   "metadata": {},
   "source": [
    "# Converting txn_time column to hour format"
   ]
  },
  {
   "cell_type": "code",
   "execution_count": 8,
   "metadata": {},
   "outputs": [],
   "source": [
    "dfr['txn_time']=pd.to_datetime(dfr.txn_time)"
   ]
  },
  {
   "cell_type": "code",
   "execution_count": 9,
   "metadata": {},
   "outputs": [],
   "source": [
    "import matplotlib.pyplot as plt\n",
    "%matplotlib inline"
   ]
  },
  {
   "cell_type": "code",
   "execution_count": 10,
   "metadata": {},
   "outputs": [],
   "source": [
    "#convert the txn_time column to a single hour format \n",
    "dfr['hour']=dfr.txn_time.dt.hour"
   ]
  },
  {
   "cell_type": "code",
   "execution_count": 11,
   "metadata": {},
   "outputs": [],
   "source": [
    "# Write DataFrame to CSV\n",
    "dfr.to_csv('out.csv')"
   ]
  },
  {
   "cell_type": "code",
   "execution_count": 12,
   "metadata": {},
   "outputs": [
    {
     "data": {
      "text/plain": [
       "txn_type                  object\n",
       "txn_date                  object\n",
       "txn_time          datetime64[ns]\n",
       "start_location            object\n",
       "end_location              object\n",
       "route_name                object\n",
       "start_zone                object\n",
       "end_zone                  object\n",
       "loading_date               int64\n",
       "ingestion_id               int64\n",
       "hour                       int64\n",
       "dtype: object"
      ]
     },
     "execution_count": 12,
     "metadata": {},
     "output_type": "execute_result"
    }
   ],
   "source": [
    "dfr.dtypes"
   ]
  },
  {
   "cell_type": "code",
   "execution_count": 13,
   "metadata": {},
   "outputs": [],
   "source": [
    "# filter Metro Bus stops for visualisation "
   ]
  },
  {
   "cell_type": "code",
   "execution_count": 14,
   "metadata": {},
   "outputs": [],
   "source": [
    "dfr_metrobusstop = dfr[dfr['end_location'].str.contains(\"Metro\")]"
   ]
  },
  {
   "cell_type": "code",
   "execution_count": 15,
   "metadata": {},
   "outputs": [],
   "source": [
    "dfr_metrobusstop.to_csv('metrobusstop.csv')"
   ]
  },
  {
   "cell_type": "code",
   "execution_count": 16,
   "metadata": {},
   "outputs": [
    {
     "data": {
      "text/html": [
       "<div>\n",
       "<style scoped>\n",
       "    .dataframe tbody tr th:only-of-type {\n",
       "        vertical-align: middle;\n",
       "    }\n",
       "\n",
       "    .dataframe tbody tr th {\n",
       "        vertical-align: top;\n",
       "    }\n",
       "\n",
       "    .dataframe thead th {\n",
       "        text-align: right;\n",
       "    }\n",
       "</style>\n",
       "<table border=\"1\" class=\"dataframe\">\n",
       "  <thead>\n",
       "    <tr style=\"text-align: right;\">\n",
       "      <th></th>\n",
       "      <th>Unnamed: 0</th>\n",
       "      <th>txn_type</th>\n",
       "      <th>txn_date</th>\n",
       "      <th>txn_time</th>\n",
       "      <th>start_location</th>\n",
       "      <th>end_location</th>\n",
       "      <th>route_name</th>\n",
       "      <th>start_zone</th>\n",
       "      <th>end_zone</th>\n",
       "      <th>loading_date</th>\n",
       "      <th>ingestion_id</th>\n",
       "      <th>hour</th>\n",
       "    </tr>\n",
       "  </thead>\n",
       "  <tbody>\n",
       "    <tr>\n",
       "      <th>0</th>\n",
       "      <td>341</td>\n",
       "      <td>Check in</td>\n",
       "      <td>2017-01-06</td>\n",
       "      <td>2018-08-14 23:14:25</td>\n",
       "      <td>Business Bay Metro Station Seaside</td>\n",
       "      <td>Business Bay Metro Station Seaside</td>\n",
       "      <td>7</td>\n",
       "      <td>Zone 6</td>\n",
       "      <td>Zone 6</td>\n",
       "      <td>20170718</td>\n",
       "      <td>1603</td>\n",
       "      <td>23</td>\n",
       "    </tr>\n",
       "    <tr>\n",
       "      <th>1</th>\n",
       "      <td>342</td>\n",
       "      <td>Check in</td>\n",
       "      <td>2017-01-06</td>\n",
       "      <td>2018-08-14 10:54:58</td>\n",
       "      <td>Business Bay Metro Station Seaside</td>\n",
       "      <td>Business Bay Metro Station Seaside</td>\n",
       "      <td>F20</td>\n",
       "      <td>Zone 6</td>\n",
       "      <td>Zone 6</td>\n",
       "      <td>20170718</td>\n",
       "      <td>1603</td>\n",
       "      <td>10</td>\n",
       "    </tr>\n",
       "    <tr>\n",
       "      <th>2</th>\n",
       "      <td>343</td>\n",
       "      <td>Check in</td>\n",
       "      <td>2017-01-06</td>\n",
       "      <td>2018-08-14 21:42:25</td>\n",
       "      <td>Business Bay Metro Station Seaside</td>\n",
       "      <td>Business Bay Metro Station Seaside</td>\n",
       "      <td>7</td>\n",
       "      <td>Zone 6</td>\n",
       "      <td>Zone 6</td>\n",
       "      <td>20170718</td>\n",
       "      <td>1603</td>\n",
       "      <td>21</td>\n",
       "    </tr>\n",
       "    <tr>\n",
       "      <th>3</th>\n",
       "      <td>905</td>\n",
       "      <td>Check in</td>\n",
       "      <td>2017-01-06</td>\n",
       "      <td>2018-08-14 18:51:39</td>\n",
       "      <td>Rashidiya Metro Station 3</td>\n",
       "      <td>Rashidiya Metro Station 3</td>\n",
       "      <td>365</td>\n",
       "      <td>Zone 5</td>\n",
       "      <td>Zone 5</td>\n",
       "      <td>20170718</td>\n",
       "      <td>1603</td>\n",
       "      <td>18</td>\n",
       "    </tr>\n",
       "    <tr>\n",
       "      <th>4</th>\n",
       "      <td>906</td>\n",
       "      <td>Check in</td>\n",
       "      <td>2017-01-06</td>\n",
       "      <td>2018-08-14 07:31:10</td>\n",
       "      <td>Rashidiya Metro Station 3</td>\n",
       "      <td>Rashidiya Metro Station 3</td>\n",
       "      <td>365</td>\n",
       "      <td>Zone 5</td>\n",
       "      <td>Zone 5</td>\n",
       "      <td>20170718</td>\n",
       "      <td>1603</td>\n",
       "      <td>7</td>\n",
       "    </tr>\n",
       "  </tbody>\n",
       "</table>\n",
       "</div>"
      ],
      "text/plain": [
       "   Unnamed: 0  txn_type    txn_date             txn_time  \\\n",
       "0         341  Check in  2017-01-06  2018-08-14 23:14:25   \n",
       "1         342  Check in  2017-01-06  2018-08-14 10:54:58   \n",
       "2         343  Check in  2017-01-06  2018-08-14 21:42:25   \n",
       "3         905  Check in  2017-01-06  2018-08-14 18:51:39   \n",
       "4         906  Check in  2017-01-06  2018-08-14 07:31:10   \n",
       "\n",
       "                       start_location                        end_location  \\\n",
       "0  Business Bay Metro Station Seaside  Business Bay Metro Station Seaside   \n",
       "1  Business Bay Metro Station Seaside  Business Bay Metro Station Seaside   \n",
       "2  Business Bay Metro Station Seaside  Business Bay Metro Station Seaside   \n",
       "3           Rashidiya Metro Station 3           Rashidiya Metro Station 3   \n",
       "4           Rashidiya Metro Station 3           Rashidiya Metro Station 3   \n",
       "\n",
       "  route_name start_zone end_zone  loading_date  ingestion_id  hour  \n",
       "0          7     Zone 6   Zone 6      20170718          1603    23  \n",
       "1        F20     Zone 6   Zone 6      20170718          1603    10  \n",
       "2          7     Zone 6   Zone 6      20170718          1603    21  \n",
       "3        365     Zone 5   Zone 5      20170718          1603    18  \n",
       "4        365     Zone 5   Zone 5      20170718          1603     7  "
      ]
     },
     "execution_count": 16,
     "metadata": {},
     "output_type": "execute_result"
    }
   ],
   "source": [
    "metrobusstop = pd.read_csv('metrobusstop.csv', keep_default_na=False, na_values=[\"\"])\n",
    "metrobusstop.head()"
   ]
  },
  {
   "cell_type": "code",
   "execution_count": 17,
   "metadata": {},
   "outputs": [
    {
     "data": {
      "text/plain": [
       "(116446, 12)"
      ]
     },
     "execution_count": 17,
     "metadata": {},
     "output_type": "execute_result"
    }
   ],
   "source": [
    "metrobusstop.shape"
   ]
  },
  {
   "cell_type": "code",
   "execution_count": 24,
   "metadata": {},
   "outputs": [],
   "source": [
    "metrobusstop.groupby(['hour','end_location']).size().unstack(fill_value=0).to_csv('Metrobusstopmatrix.csv')"
   ]
  },
  {
   "cell_type": "code",
   "execution_count": 25,
   "metadata": {},
   "outputs": [],
   "source": [
    "metrobusstop.to_csv('metrobusstopmatrix.csv')"
   ]
  },
  {
   "cell_type": "markdown",
   "metadata": {},
   "source": [
    "# Counts of ridership for each hour (total)"
   ]
  },
  {
   "cell_type": "code",
   "execution_count": 26,
   "metadata": {},
   "outputs": [
    {
     "data": {
      "image/png": "[encoded data removed]",
      "text/plain": [
       "<Figure size 432x288 with 1 Axes>"
      ]
     },
     "metadata": {},
     "output_type": "display_data"
    }
   ],
   "source": [
    "#filter Check in \n",
    "dfr_ci = dfr[dfr['txn_type'].str.contains(\"Check in\")]\n",
    "\n",
    "#filter Check out\n",
    "dfr_co = dfr[dfr['txn_type'].str.contains(\"Check out\")]\n",
    "\n",
    "#Count & plot the number of rides per hour & sort in ascending order \n",
    "\n",
    "Check_in = dfr_ci.hour.value_counts().sort_index().plot(label = 'Check in')\n",
    "Check_out = dfr_co.hour.value_counts().sort_index().plot(label = 'Check out')\n",
    "plt.ylabel('Total ridership count')\n",
    "plt.xlabel('Hour')\n",
    "Check_in.legend();"
   ]
  },
  {
   "cell_type": "code",
   "execution_count": 27,
   "metadata": {},
   "outputs": [
    {
     "data": {
      "text/plain": [
       "Text(0.5,0,'Hour and bus stop')"
      ]
     },
     "execution_count": 27,
     "metadata": {},
     "output_type": "execute_result"
    },
    {
     "data": {
      "image/png": "[encoded data removed]",
      "text/plain": [
       "<Figure size 432x288 with 1 Axes>"
      ]
     },
     "metadata": {},
     "output_type": "display_data"
    }
   ],
   "source": [
    "dfr.groupby('hour').end_location.value_counts().sort_index().plot()\n",
    "plt.ylabel('Total ridership count')\n",
    "plt.xlabel('Hour and bus stop')"
   ]
  },
  {
   "cell_type": "code",
   "execution_count": 28,
   "metadata": {},
   "outputs": [],
   "source": [
    "#dfr.groupby(['hour','end_location']).size().unstack(fill_value=0)"
   ]
  },
  {
   "cell_type": "markdown",
   "metadata": {},
   "source": [
    "# Counts of ridership for each hour (Burjuman Stations)"
   ]
  },
  {
   "cell_type": "code",
   "execution_count": 29,
   "metadata": {},
   "outputs": [
    {
     "data": {
      "text/plain": [
       "(6721, 11)"
      ]
     },
     "execution_count": 29,
     "metadata": {},
     "output_type": "execute_result"
    }
   ],
   "source": [
    "#filter dataframe by rows containing 'BurJuman'\n",
    "dfr_bj = dfr[dfr['end_location'].str.contains(\"BurJuman\")]\n",
    "#number of rows with data\n",
    "dfr_bj.shape"
   ]
  },
  {
   "cell_type": "code",
   "execution_count": 30,
   "metadata": {},
   "outputs": [
    {
     "data": {
      "text/plain": [
       "7"
      ]
     },
     "execution_count": 30,
     "metadata": {},
     "output_type": "execute_result"
    }
   ],
   "source": [
    "#Number of end_location (station name) entries\n",
    "dfr_bj['end_location'].nunique()"
   ]
  },
  {
   "cell_type": "code",
   "execution_count": 31,
   "metadata": {},
   "outputs": [
    {
     "data": {
      "image/png": "[encoded data removed]",
      "text/plain": [
       "<Figure size 432x288 with 1 Axes>"
      ]
     },
     "metadata": {},
     "output_type": "display_data"
    }
   ],
   "source": [
    "#filter Check in \n",
    "dfr_bj_ci = dfr_bj[dfr_bj['txn_type'].str.contains(\"Check in\")]\n",
    "\n",
    "#filter Check out\n",
    "dfr_bj_co = dfr_bj[dfr_bj['txn_type'].str.contains(\"Check out\")]\n",
    "\n",
    "#Count & plot the number of rides per hour & sort in ascending order \n",
    "\n",
    "Check_in = dfr_bj_ci.hour.value_counts().sort_index().plot(label = 'Check in')\n",
    "Check_out = dfr_bj_co.hour.value_counts().sort_index().plot(label = 'Check out')\n",
    "#dfr_co.hour.plot(hour,hour.value_counts().sort_index(), label = \"Check out\")\n",
    "plt.ylabel('Total ridership count')\n",
    "plt.xlabel('Hour')\n",
    "Check_in.legend();\n",
    "#plt.xlabel('Total ridership for Check-in vs Check-out')"
   ]
  },
  {
   "cell_type": "markdown",
   "metadata": {},
   "source": [
    "# Bus Ridership for a week"
   ]
  },
  {
   "cell_type": "code",
   "execution_count": 32,
   "metadata": {},
   "outputs": [
    {
     "data": {
      "text/plain": [
       "(656149, 11)"
      ]
     },
     "execution_count": 32,
     "metadata": {},
     "output_type": "execute_result"
    }
   ],
   "source": [
    "dfr2 = dfr\n",
    "dfr2.shape\n",
    "#there is an extra column accounting for the new 'Hour' that was addded previously"
   ]
  },
  {
   "cell_type": "code",
   "execution_count": 33,
   "metadata": {},
   "outputs": [
    {
     "data": {
      "text/plain": [
       "(763667, 8)"
      ]
     },
     "execution_count": 33,
     "metadata": {},
     "output_type": "execute_result"
    }
   ],
   "source": [
    "dfr1 = pd.read_csv('bus_ridership_day1.csv', keep_default_na=False, na_values=[\"\"])\n",
    "dfr1.shape"
   ]
  },
  {
   "cell_type": "code",
   "execution_count": 34,
   "metadata": {},
   "outputs": [
    {
     "data": {
      "text/plain": [
       "txn_type          763667\n",
       "txn_date          763667\n",
       "txn_time          763667\n",
       "start_location    305775\n",
       "end_location      763667\n",
       "route_name        763667\n",
       "start_zone        763667\n",
       "end_zone          763667\n",
       "dtype: int64"
      ]
     },
     "execution_count": 34,
     "metadata": {},
     "output_type": "execute_result"
    }
   ],
   "source": [
    "dfr1.notnull().sum()"
   ]
  },
  {
   "cell_type": "code",
   "execution_count": 35,
   "metadata": {},
   "outputs": [
    {
     "data": {
      "text/plain": [
       "(656149, 8)"
      ]
     },
     "execution_count": 35,
     "metadata": {},
     "output_type": "execute_result"
    }
   ],
   "source": [
    "dfr3 = pd.read_csv('bus_ridership_day3.csv', keep_default_na=False, na_values=[\"\"])\n",
    "dfr3.shape"
   ]
  },
  {
   "cell_type": "code",
   "execution_count": 36,
   "metadata": {},
   "outputs": [
    {
     "data": {
      "text/plain": [
       "691988.3333333334"
      ]
     },
     "execution_count": 36,
     "metadata": {},
     "output_type": "execute_result"
    }
   ],
   "source": [
    "import statistics\n",
    "\n",
    "#avg_rid = (dfr1.txn_type.value_counts(),dfr2.txn_type.value_counts(), dfr3.txn_type.value_counts()).mean()\n",
    "total_rows1 = int(dfr1.txn_date.value_counts())\n",
    "total_rows2 = int(dfr2.txn_date.value_counts())\n",
    "total_rows3 = int(dfr3.txn_date.value_counts())\n",
    "\n",
    "avg_rid = statistics.mean([total_rows1, total_rows2, total_rows3])\n",
    "\n",
    "#average number of ridership from 3 ridership datasets\n",
    "avg_rid"
   ]
  },
  {
   "cell_type": "code",
   "execution_count": null,
   "metadata": {},
   "outputs": [],
   "source": []
  },
  {
   "cell_type": "code",
   "execution_count": null,
   "metadata": {},
   "outputs": [],
   "source": []
  }
 ],
 "metadata": {
  "kernelspec": {
   "display_name": "Python 3",
   "language": "python",
   "name": "python3"
  },
  "language_info": {
   "codemirror_mode": {
    "name": "ipython",
    "version": 3
   },
   "file_extension": ".py",
   "mimetype": "text/x-python",
   "name": "python",
   "nbconvert_exporter": "python",
   "pygments_lexer": "ipython3",
   "version": "3.6.5"
  }
 },
 "nbformat": 4,
 "nbformat_minor": 2
}
